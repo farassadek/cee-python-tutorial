{
 "cells": [
  {
   "cell_type": "markdown",
   "metadata": {},
   "source": [
    "# Python and Numerics"
   ]
  },
  {
   "cell_type": "markdown",
   "metadata": {},
   "source": [
    "(A tutorial prepared by K. Indireshkumar of SEAS Computing.)"
   ]
  },
  {
   "cell_type": "markdown",
   "metadata": {},
   "source": [
    "## Python as a calculator##"
   ]
  },
  {
   "cell_type": "code",
   "execution_count": null,
   "metadata": {
    "collapsed": true
   },
   "outputs": [],
   "source": [
    "123*345"
   ]
  },
  {
   "cell_type": "code",
   "execution_count": null,
   "metadata": {
    "collapsed": true
   },
   "outputs": [],
   "source": [
    "725+323.0"
   ]
  },
  {
   "cell_type": "markdown",
   "metadata": {},
   "source": [
    "## Modules##\n",
    "\n",
    "* Much of the power of python is due to modules\n",
    "* Modules can be installed and imported easily\n",
    "* Should be careful about mixing name spaces\n",
    "* Some important modules: Numpy, Scipy, Matplotlib"
   ]
  },
  {
   "cell_type": "markdown",
   "metadata": {},
   "source": [
    "### Importing numpy###"
   ]
  },
  {
   "cell_type": "code",
   "execution_count": null,
   "metadata": {
    "collapsed": true
   },
   "outputs": [],
   "source": [
    "#In order to use numpy, start with importing the module\n",
    "from numpy import *\n",
    "sin(pi/2)"
   ]
  },
  {
   "cell_type": "code",
   "execution_count": null,
   "metadata": {
    "collapsed": true
   },
   "outputs": [],
   "source": [
    "#The following command installs the two packages we need.\n",
    "!pip install numpy scipy"
   ]
  },
  {
   "cell_type": "code",
   "execution_count": null,
   "metadata": {
    "collapsed": true
   },
   "outputs": [],
   "source": [
    "log10(-1)\n",
    "#?log10"
   ]
  },
  {
   "cell_type": "code",
   "execution_count": null,
   "metadata": {
    "collapsed": true
   },
   "outputs": [],
   "source": [
    "import scipy as spy\n",
    "x=spy.log10(-1)\n",
    "x"
   ]
  },
  {
   "cell_type": "markdown",
   "metadata": {},
   "source": [
    "Why is Scipy result not 'NaN'? Work in the complex plane (see wikipedia article on \"Complex logarithm\"). Also note:"
   ]
  },
  {
   "cell_type": "code",
   "execution_count": null,
   "metadata": {
    "collapsed": true
   },
   "outputs": [],
   "source": [
    "pi/log(10) # Which pi and log are being used: from numpy or scipy?"
   ]
  },
  {
   "cell_type": "code",
   "execution_count": null,
   "metadata": {
    "collapsed": true
   },
   "outputs": [],
   "source": [
    "log10(10) # log to base 10"
   ]
  },
  {
   "cell_type": "code",
   "execution_count": null,
   "metadata": {
    "collapsed": true
   },
   "outputs": [],
   "source": [
    "#The above way of importing numpy is problematic if the same \n",
    "#variable name appears in different modules (name space conflict).\n",
    "# To get around that, a better option:\n",
    "import numpy\n",
    "numpy.sin(pi/2)"
   ]
  },
  {
   "cell_type": "code",
   "execution_count": null,
   "metadata": {
    "collapsed": true
   },
   "outputs": [],
   "source": [
    "#dir(numpy) #Getting more info\n",
    "#help(numpy)"
   ]
  },
  {
   "cell_type": "code",
   "execution_count": null,
   "metadata": {
    "collapsed": true
   },
   "outputs": [],
   "source": [
    "#The following is even better\n",
    "import numpy as np #This way, you can use a shorter name for the desired namespace\n",
    "np.sin(pi/2)"
   ]
  },
  {
   "cell_type": "markdown",
   "metadata": {},
   "source": [
    "### Python and Matlab like functionality###"
   ]
  },
  {
   "cell_type": "code",
   "execution_count": null,
   "metadata": {
    "collapsed": true
   },
   "outputs": [],
   "source": [
    "!pip install matplotlib scipy pandas sklearn"
   ]
  },
  {
   "cell_type": "code",
   "execution_count": null,
   "metadata": {
    "collapsed": true
   },
   "outputs": [],
   "source": [
    "#%pylab inline\n",
    "# Note the Ipython magic command %\n",
    "%matplotlib inline "
   ]
  },
  {
   "cell_type": "code",
   "execution_count": null,
   "metadata": {
    "collapsed": true
   },
   "outputs": [],
   "source": [
    "import pandas as pd # pandas is a sophisticated data/data analysis package."
   ]
  },
  {
   "cell_type": "code",
   "execution_count": null,
   "metadata": {
    "collapsed": true
   },
   "outputs": [],
   "source": [
    "import sklearn as sklrn #Basic machine learning package"
   ]
  },
  {
   "cell_type": "markdown",
   "metadata": {},
   "source": [
    "## Some numerical data types##\n",
    "\n",
    "Also see: https://docs.scipy.org/doc/numpy-1.13.0/user/basics.types.html"
   ]
  },
  {
   "cell_type": "code",
   "execution_count": null,
   "metadata": {
    "collapsed": true
   },
   "outputs": [],
   "source": [
    "2*16  # data type integer"
   ]
  },
  {
   "cell_type": "code",
   "execution_count": null,
   "metadata": {
    "collapsed": true
   },
   "outputs": [],
   "source": [
    "a=2\n",
    "b=16\n",
    "print(a*b, b/a, a/b) # floating point result (python 3)"
   ]
  },
  {
   "cell_type": "code",
   "execution_count": null,
   "metadata": {
    "collapsed": true
   },
   "outputs": [],
   "source": [
    "print(a*b, b//a, a//b) # integer divison "
   ]
  },
  {
   "cell_type": "code",
   "execution_count": null,
   "metadata": {
    "collapsed": true
   },
   "outputs": [],
   "source": [
    "24542*2121212123456789816254827 # Long integer! No size limit other than those imposed by memory."
   ]
  },
  {
   "cell_type": "code",
   "execution_count": null,
   "metadata": {
    "collapsed": true
   },
   "outputs": [],
   "source": [
    "import sys\n",
    "sys.maxsize # Determine the maximum size of an integer"
   ]
  },
  {
   "cell_type": "code",
   "execution_count": null,
   "metadata": {
    "collapsed": true
   },
   "outputs": [],
   "source": [
    "24542.0*2121212123456789816254827 # Data type float"
   ]
  },
  {
   "cell_type": "code",
   "execution_count": null,
   "metadata": {
    "collapsed": true
   },
   "outputs": [],
   "source": [
    "a=2.0 # float\n",
    "b=16  # integer\n",
    "print(a*b, b/a, a/b) #When integers are mixed with floats, they are converted to floats"
   ]
  },
  {
   "cell_type": "code",
   "execution_count": null,
   "metadata": {
    "collapsed": true
   },
   "outputs": [],
   "source": [
    "#https://docs.scipy.org/doc/numpy-dev/user/basics.types.html\n",
    "#sys.float_info\n",
    "#np.finfo(np.float128)\n",
    "sys.float_info.max"
   ]
  },
  {
   "cell_type": "markdown",
   "metadata": {},
   "source": [
    "## Precision in python\n",
    "\n",
    "* https://docs.python.org/2/tutorial/floatingpoint.html\n",
    "\n",
    "* https://docs.python.org/2/library/decimal.html\n",
    "\n",
    "* https://anh.cs.luc.edu/python/hands-on/3.1/handsonHtml/float.html"
   ]
  },
  {
   "cell_type": "markdown",
   "metadata": {},
   "source": [
    "## Complex numbers"
   ]
  },
  {
   "cell_type": "code",
   "execution_count": null,
   "metadata": {
    "collapsed": true
   },
   "outputs": [],
   "source": [
    "x=5; y=6\n",
    "z=x+y*1j #Python uses j instead of i for imaginary part\n",
    "w=complex(5,6)\n",
    "z,w,conj(z),abs(z)"
   ]
  },
  {
   "cell_type": "markdown",
   "metadata": {},
   "source": [
    "## Arrays##\n",
    "\n",
    "Arrays can be created in different ways"
   ]
  },
  {
   "cell_type": "code",
   "execution_count": null,
   "metadata": {
    "collapsed": true
   },
   "outputs": [],
   "source": [
    "#creating an array by explicitly putting in the entries\n",
    "ar1=array([2,3,4,5,1,2,3,4,4,3,2,1])\n",
    "print(ar1)"
   ]
  },
  {
   "cell_type": "code",
   "execution_count": null,
   "metadata": {
    "collapsed": true
   },
   "outputs": [],
   "source": [
    "#creating an array with linspace\n",
    "X = linspace(0, 1, 11)\n",
    "print(X)"
   ]
  },
  {
   "cell_type": "code",
   "execution_count": null,
   "metadata": {
    "collapsed": true
   },
   "outputs": [],
   "source": [
    "#creating an array with linspace\n",
    "X = linspace(0, 1, 10, endpoint=False)\n",
    "print(X)"
   ]
  },
  {
   "cell_type": "code",
   "execution_count": null,
   "metadata": {
    "collapsed": true
   },
   "outputs": [],
   "source": [
    "#array with arange\n",
    "time_step = 0.2\n",
    "time_vec=arange(0,5,time_step)\n",
    "time_vec"
   ]
  },
  {
   "cell_type": "code",
   "execution_count": null,
   "metadata": {
    "collapsed": true
   },
   "outputs": [],
   "source": [
    "type(time_vec)\n",
    "#shape(time_vec)\n",
    "#time_vec.shape"
   ]
  },
  {
   "cell_type": "code",
   "execution_count": null,
   "metadata": {
    "collapsed": true
   },
   "outputs": [],
   "source": [
    "ar1.reshape(3,4) #reshape 1-D array into 3 X 4 array"
   ]
  },
  {
   "cell_type": "markdown",
   "metadata": {},
   "source": [
    "This is 2D array which appears to be a list of lists. Why don't we just work with lists? Primary reasons, speed and efficiency.\n",
    "\n",
    "* Lists are very general; they can hold heterogeneous quantities. Operations such as matrix operations and dot products are not supported in lists. \n",
    "* Numpy arrays and its derived entities (such as matrix) are very efficient. These are statically typed as opposed to dynamic typing normally used in python. Because of this, routines involving arrays can be implemented in fortran and c.\n",
    "* Arrays are memory efficient."
   ]
  },
  {
   "cell_type": "code",
   "execution_count": null,
   "metadata": {
    "collapsed": true
   },
   "outputs": [],
   "source": [
    "ar1=array([float(i) for i in range (15)])  # Create arrays via list comprehension\n",
    "ar2=array([float(i) for i in range (3,18)])\n",
    "ar1,ar2"
   ]
  },
  {
   "cell_type": "code",
   "execution_count": null,
   "metadata": {
    "collapsed": true
   },
   "outputs": [],
   "source": [
    "#elementwise operations (uncomment below and run cell to see results)\n",
    "#ar2-ar1\n",
    "#ar2*ar1\n",
    "ar1/ar2\n",
    "# array slicing; syntax ar1[start:end:step]\n",
    "#ar1[0.:8.:2]\n",
    "#ar1[::2]"
   ]
  },
  {
   "cell_type": "code",
   "execution_count": null,
   "metadata": {
    "collapsed": true
   },
   "outputs": [],
   "source": [
    "seed(12345)\n",
    "a=random.rand(4,4) #rand samples from a uniform distribution\n",
    "a"
   ]
  },
  {
   "cell_type": "code",
   "execution_count": null,
   "metadata": {
    "collapsed": true
   },
   "outputs": [],
   "source": [
    "print(a*a)"
   ]
  },
  {
   "cell_type": "code",
   "execution_count": null,
   "metadata": {
    "collapsed": true
   },
   "outputs": [],
   "source": [
    "b=random.rand(4,3)\n",
    "print(a*b)"
   ]
  },
  {
   "cell_type": "code",
   "execution_count": null,
   "metadata": {
    "collapsed": true
   },
   "outputs": [],
   "source": [
    "type(a),type(b)"
   ]
  },
  {
   "cell_type": "markdown",
   "metadata": {},
   "source": [
    "## Matrices"
   ]
  },
  {
   "cell_type": "code",
   "execution_count": null,
   "metadata": {
    "collapsed": true
   },
   "outputs": [],
   "source": [
    "#convert to matrix\n",
    "am=mat(a)\n",
    "#am.shape, am.size\n",
    "am"
   ]
  },
  {
   "cell_type": "markdown",
   "metadata": {},
   "source": [
    "### Wait a minute! matrix and array look the same other than the words \"matrix\" and \"array\".\n",
    "\n",
    "Well, not quite! Mathematical operations such as multiply have differ meanings. Matrices behave like (linear algebra) matrices. Also, matrices are strictly two dimensional. Arrays can be multidimensional."
   ]
  },
  {
   "cell_type": "code",
   "execution_count": null,
   "metadata": {
    "collapsed": true
   },
   "outputs": [],
   "source": [
    "am*am"
   ]
  },
  {
   "cell_type": "code",
   "execution_count": null,
   "metadata": {
    "collapsed": true
   },
   "outputs": [],
   "source": [
    "bmat=mat(b)\n",
    "am*bmat"
   ]
  },
  {
   "cell_type": "code",
   "execution_count": null,
   "metadata": {
    "collapsed": true
   },
   "outputs": [],
   "source": [
    "#obtain the transpose\n",
    "#bt=am.T\n",
    "#print bt\n",
    "#obtain inverse\n",
    "bm=am.I\n",
    "bm"
   ]
  },
  {
   "cell_type": "code",
   "execution_count": null,
   "metadata": {
    "collapsed": true
   },
   "outputs": [],
   "source": [
    "#compute product of matrix and its inverse\n",
    "cm=am*bm\n",
    "#Other than the diagonal (equal to 1), all elements are \"zero\", hence identity matrix.\n",
    "cm"
   ]
  },
  {
   "cell_type": "code",
   "execution_count": null,
   "metadata": {
    "collapsed": true
   },
   "outputs": [],
   "source": [
    "cmi=mat(eye(4,4)) # Identity matrix\n",
    "cmi"
   ]
  },
  {
   "cell_type": "code",
   "execution_count": null,
   "metadata": {
    "collapsed": true
   },
   "outputs": [],
   "source": [
    "cmi-cm # difference between the inverse matrix (cmi) and identity matrix of same shape (should be zero or close to zero)"
   ]
  },
  {
   "cell_type": "markdown",
   "metadata": {},
   "source": [
    "### Determinant of a Matrix###"
   ]
  },
  {
   "cell_type": "markdown",
   "metadata": {},
   "source": [
    "Linear algebra routines\n",
    "### https://docs.scipy.org/doc/numpy-1.13.0/reference/routines.linalg.html"
   ]
  },
  {
   "cell_type": "code",
   "execution_count": null,
   "metadata": {
    "collapsed": true
   },
   "outputs": [],
   "source": [
    "from scipy import linalg"
   ]
  },
  {
   "cell_type": "code",
   "execution_count": null,
   "metadata": {
    "collapsed": true
   },
   "outputs": [],
   "source": [
    "M=matrix([[10,9],[9,10]])\n",
    "M\n"
   ]
  },
  {
   "cell_type": "code",
   "execution_count": null,
   "metadata": {
    "collapsed": true
   },
   "outputs": [],
   "source": [
    "#np.linalg.det(M)\n",
    "linalg.det(M)\n",
    "#with float, only 16 significant digits"
   ]
  },
  {
   "cell_type": "markdown",
   "metadata": {},
   "source": [
    "### Linear Equations"
   ]
  },
  {
   "cell_type": "code",
   "execution_count": null,
   "metadata": {
    "collapsed": true
   },
   "outputs": [],
   "source": [
    "A=mat([[3,5,2],[4,-3,-2],[1,-1,2]])\n",
    "A"
   ]
  },
  {
   "cell_type": "code",
   "execution_count": null,
   "metadata": {
    "collapsed": true
   },
   "outputs": [],
   "source": [
    "### The Equations are\n",
    "###       3x+5y+2z=11\n",
    "###       4x-3y-2z=9\n",
    "###        x- y+2z=-11\n",
    "###This can be written in the form A*x=B\n",
    "A=mat([[3,5,2],[4,-3,-2],[1,-1,2]])\n",
    "B=mat([[11],[9],[-11]])\n",
    "# Solution\n",
    "x = linalg.solve(A, B)\n",
    "x"
   ]
  },
  {
   "cell_type": "markdown",
   "metadata": {},
   "source": [
    "## Eigenvalues and Eigenvectors"
   ]
  },
  {
   "cell_type": "code",
   "execution_count": null,
   "metadata": {
    "collapsed": true
   },
   "outputs": [],
   "source": [
    "m=np.diag((1, 2, 3))\n",
    "m"
   ]
  },
  {
   "cell_type": "code",
   "execution_count": null,
   "metadata": {
    "collapsed": true
   },
   "outputs": [],
   "source": [
    "w, v = linalg.eig(m)\n",
    "w # eigenvalues"
   ]
  },
  {
   "cell_type": "code",
   "execution_count": null,
   "metadata": {
    "collapsed": true
   },
   "outputs": [],
   "source": [
    "v # eigenvectors"
   ]
  },
  {
   "cell_type": "markdown",
   "metadata": {},
   "source": [
    "## Hermitian Matrix\n",
    "\n",
    "Square matrix that is equal to its conjugate transpose"
   ]
  },
  {
   "cell_type": "code",
   "execution_count": null,
   "metadata": {
    "collapsed": true
   },
   "outputs": [],
   "source": [
    "h = np.array([[4, 2+3j, 5-3j], [2-3j, 5, 3+5j], [5+3j, 3-5j, 6]])\n",
    "h"
   ]
  },
  {
   "cell_type": "code",
   "execution_count": null,
   "metadata": {
    "collapsed": true
   },
   "outputs": [],
   "source": [
    "h.conj().T # should be the same as h is Hermitian"
   ]
  },
  {
   "cell_type": "code",
   "execution_count": null,
   "metadata": {
    "collapsed": true
   },
   "outputs": [],
   "source": [
    "if h.conj().T == h:\n",
    "    print('Matrix h is Hermitian')\n",
    "else:\n",
    "    print('Matrix h is not Hermitian')"
   ]
  },
  {
   "cell_type": "code",
   "execution_count": null,
   "metadata": {
    "collapsed": true
   },
   "outputs": [],
   "source": [
    "(h.conj().T == h).all() # Make sure h is Hermitian"
   ]
  },
  {
   "cell_type": "code",
   "execution_count": null,
   "metadata": {
    "collapsed": true
   },
   "outputs": [],
   "source": [
    "#Eigenvalues and eigenvectors\n",
    "w, v = linalg.eig(h)\n",
    "w # eigenvalues are real!"
   ]
  },
  {
   "cell_type": "markdown",
   "metadata": {},
   "source": [
    "## Speed, Economy, and Efficiency"
   ]
  },
  {
   "cell_type": "markdown",
   "metadata": {},
   "source": [
    "### Vectorization"
   ]
  },
  {
   "cell_type": "code",
   "execution_count": null,
   "metadata": {
    "collapsed": true
   },
   "outputs": [],
   "source": [
    "#Example inspired by Andrew Ng's lecture on vectorization in python on coursera\n",
    "import time\n",
    "\n",
    "arand=np.random.randn(1000000)\n",
    "brand=np.random.randn(1000000)\n",
    "\n",
    "#Compute sum of products of the two random arrays via loop\n",
    "\n",
    "t1=time.time()\n",
    "totprod=0.0\n",
    "for i in range(1000000):\n",
    "    totprod+=arand[i]*brand[i]\n",
    "t2=time.time()\n",
    "time1=t2-t1\n",
    "\n",
    "#Compute sum of products without loop (\"vectorized\" operation)\n",
    "\n",
    "t3=time.time()\n",
    "totprodv=np.dot(arand,brand)\n",
    "t4=time.time()\n",
    "time2=t4-t3\n",
    "\n",
    "# Time is converted to milliseconds\n",
    "print(totprod,time1*1000);print(totprodv,time2*1000)"
   ]
  },
  {
   "cell_type": "markdown",
   "metadata": {},
   "source": [
    "### Issues with floating point arithmetic operations\n",
    "\n",
    "* https://en.wikipedia.org/wiki/Loss_of_significance\n",
    "\n",
    "* https://docs.python.org/2/tutorial/floatingpoint.html"
   ]
  },
  {
   "cell_type": "markdown",
   "metadata": {},
   "source": [
    "### Broadcasting"
   ]
  },
  {
   "cell_type": "code",
   "execution_count": null,
   "metadata": {
    "collapsed": true
   },
   "outputs": [],
   "source": [
    "xp=np.array([[6,8,10],[9,12,15]]) # A 2 X 3 array\n",
    "xp"
   ]
  },
  {
   "cell_type": "code",
   "execution_count": null,
   "metadata": {
    "collapsed": true
   },
   "outputs": [],
   "source": [
    "yp=np.array([3,4,5]) # A 1 X 3 array\n",
    "yp"
   ]
  },
  {
   "cell_type": "code",
   "execution_count": null,
   "metadata": {
    "collapsed": true
   },
   "outputs": [],
   "source": [
    "xp/yp # During computation, the 1X3 array is \"broadcast\" to the shape of the larger (2X3 array) "
   ]
  },
  {
   "cell_type": "markdown",
   "metadata": {},
   "source": [
    "https://docs.scipy.org/doc/numpy-1.13.0/user/basics.broadcasting.html"
   ]
  },
  {
   "cell_type": "markdown",
   "metadata": {},
   "source": [
    "### Meshgrid"
   ]
  },
  {
   "cell_type": "code",
   "execution_count": null,
   "metadata": {
    "collapsed": true
   },
   "outputs": [],
   "source": [
    "#meshgrid is an advanced operation with relevance to 'vectorized' computations. \n",
    "#It is very helpful in plotting operations and in this context can be thought of as returning \n",
    "# a regularly spaced grid (eg. a rectangular grid in 2D). See the plotting examples below.\n",
    "n=5\n",
    "x = linspace(-1.4, 1.4, n)\n",
    "y = linspace(-2.0, 0.8, n)\n",
    "X, Y = meshgrid(x, y)\n",
    "X,Y"
   ]
  },
  {
   "cell_type": "markdown",
   "metadata": {},
   "source": [
    "# Plotting \n",
    "\n",
    "Plotting can be quite confusing for a beginner in python.\n",
    "\n",
    "* Matplotlib is the primary (predominantly 2D) plotting package.\n",
    "\n",
    "* mpl_toolkits.mplot3d provides some basic 3D plotting capabilities.\n",
    "\n",
    "* A separate package Mayavi provides interactive data visualization and 3D plotting.\n",
    "\n",
    "References:\n",
    "\n",
    "http://matplotlib.org/users/pyplot_tutorial.html\n",
    "\n",
    "https://scipy-lectures.github.io/intro/matplotlib/matplotlib.html#contour-plots\n",
    "\n",
    "http://nbviewer.ipython.org/github/jrjohansson/scientific-python-lectures/blob/master/Lecture-4-Matplotlib.ipynb\n",
    "\n",
    "3D plotting with Mayavi:\n",
    "\n",
    "http://scipy-lectures.github.io/advanced/3d_plotting/index.html"
   ]
  },
  {
   "cell_type": "code",
   "execution_count": null,
   "metadata": {
    "collapsed": true
   },
   "outputs": [],
   "source": [
    "##Simple way pylab (think Matlab)\n",
    "#from pylab import *\n",
    "#import matplotlib.pyplot as plt"
   ]
  },
  {
   "cell_type": "code",
   "execution_count": null,
   "metadata": {
    "collapsed": true
   },
   "outputs": [],
   "source": [
    "from pylab import *\n",
    "#Note that the whole sequence is vectorized, i.e. all operations\n",
    "#are being carried out with vectors without resorting to for loops!\n",
    "#The vector X is created by using linspace (very useful)\n",
    "X = linspace(-pi, pi, 256, endpoint=True)\n",
    "C=cos(X)\n",
    "#C, S = cos(X), sin(X)\n",
    "#print C\n",
    "\n",
    "plot(X, C)\n",
    "#plot(X, S)\n",
    "xlabel('Angle (radian)')\n",
    "ylabel('Cosine function')\n",
    "title('A simple plot')\n",
    "\n",
    "#show()"
   ]
  },
  {
   "cell_type": "code",
   "execution_count": null,
   "metadata": {
    "collapsed": true
   },
   "outputs": [],
   "source": [
    "def f(x,y): return (1-x/2+x**5+y**3)*np.exp(-x**2-y**2)\n",
    "\n",
    "n = 256\n",
    "x = linspace(-3,3,n)\n",
    "y = linspace(-3,3,n)\n",
    "X,Y = meshgrid(x,y)\n",
    "\n",
    "contour(X, Y, f(X,Y),colors='black')\n",
    "contourf(X, Y, f(X,Y))"
   ]
  },
  {
   "cell_type": "code",
   "execution_count": null,
   "metadata": {
    "collapsed": true
   },
   "outputs": [],
   "source": [
    "#3D plot requires the creation of a Axes3D object\n",
    "# See: https://matplotlib.org/mpl_toolkits/mplot3d/tutorial.html\n",
    "from mpl_toolkits.mplot3d import Axes3D\n",
    "fig = figure()\n",
    "ax = Axes3D(fig)\n",
    "\n",
    "n = 256\n",
    "x = linspace(-3,3,n)\n",
    "y = linspace(-3,3,n)\n",
    "X,Y = meshgrid(x,y)\n",
    "\n",
    "def f(x,y): return (1-x/2+x**5+y**3)*np.exp(-x**2-y**2)\n",
    "\n",
    "#c=ax.plot_surface(X, Y, f(X,Y),cmap=cm.coolwarm, linewidth=0)\n",
    "#c=ax.plot_surface(X, Y, f(X,Y), rstride=1, cstride=1, linewidth=0)\n",
    "c=ax.plot_surface(X, Y, f(X,Y), rstride=2, cstride=2, cmap=cm.coolwarm, linewidth=0)\n",
    "\n",
    "\n",
    "show()"
   ]
  },
  {
   "cell_type": "markdown",
   "metadata": {},
   "source": [
    "## Ordinary Differential Equations##\n",
    "\n",
    "The primary tool for ordinary differential equations is the \"odeint\" function from the scipy module."
   ]
  },
  {
   "cell_type": "code",
   "execution_count": null,
   "metadata": {
    "collapsed": true
   },
   "outputs": [],
   "source": [
    "from scipy.integrate import odeint\n",
    "#help(odeint)"
   ]
  },
  {
   "cell_type": "markdown",
   "metadata": {},
   "source": [
    "### Simple first order ODE###"
   ]
  },
  {
   "cell_type": "markdown",
   "metadata": {},
   "source": [
    "Let us first solve a simple ordinary differential equation:\n",
    "\n",
    "$\\displaystyle \\frac{dy}{dt} = \\alpha y$\n",
    "\n",
    "The solution is easy to calculate analytically ($t(0)=0$):\n",
    "\n",
    "$y = y(0)e^{\\alpha t}$\n",
    "\n",
    "We first define a function to return the RHS ($\\alpha y$) of the above ODE:"
   ]
  },
  {
   "cell_type": "code",
   "execution_count": null,
   "metadata": {
    "collapsed": true
   },
   "outputs": [],
   "source": [
    "def deriv(y, t, alpha):\n",
    "    #This function returns the derivative (RHS of) dy/dt = alpha*y\n",
    "    drv = alpha * y\n",
    "    return drv\n"
   ]
  },
  {
   "cell_type": "code",
   "execution_count": null,
   "metadata": {
    "collapsed": true
   },
   "outputs": [],
   "source": [
    "# Initial condition\n",
    "y0 = 100.0\n",
    "\n",
    "# Times at which the solution is to be computed.\n",
    "t = np.linspace(0, 1, 51)\n",
    "\n",
    "# Parameter value to use in `fun`.\n",
    "alpha = -2.5\n",
    "\n",
    "# Solve the equation.\n",
    "y = odeint(deriv, y0, t, args=(alpha,))"
   ]
  },
  {
   "cell_type": "code",
   "execution_count": null,
   "metadata": {
    "collapsed": true
   },
   "outputs": [],
   "source": [
    "plot(t, y[:,0])\n",
    "xlabel('t')\n",
    "ylabel('y')\n",
    "show()"
   ]
  },
  {
   "cell_type": "code",
   "execution_count": null,
   "metadata": {
    "collapsed": true
   },
   "outputs": [],
   "source": [
    "y1=y0*exp(alpha*t)"
   ]
  },
  {
   "cell_type": "code",
   "execution_count": null,
   "metadata": {
    "collapsed": true
   },
   "outputs": [],
   "source": [
    "plot(t, y[:,0])\n",
    "plot(t, y1)\n",
    "xlabel('t')\n",
    "ylabel('y1')\n",
    "show()"
   ]
  },
  {
   "cell_type": "markdown",
   "metadata": {},
   "source": [
    "### Damped Harmonic Oscillator (second order ODE)###\n",
    "We look at a slightly more complicated ODE example. This example is self contained. However, it builds on the material from:\n",
    "\n",
    "https://nbviewer.jupyter.org/github/jrjohansson/scientific-python-lectures/blob/master/Lecture-3-Scipy.ipynb"
   ]
  },
  {
   "cell_type": "markdown",
   "metadata": {},
   "source": [
    "For a damped oscillator subject to an oscillating force, the equation of motion is:\n",
    "\n",
    "$\\displaystyle \\frac{d^2x}{dt^2} + \\zeta \\frac{dx}{dt} + \\omega^2_0 x = A\\cos(\\omega t)$\n",
    "\n",
    "where $x$, $\\omega_0$, and $\\zeta$ are the displacement, natural frequency and damping coefficient of the oscillator. The oscillator is also subject to an external driving force with amplitude $A$ and frequency $\\omega$. With $p = \\frac{dx}{dt}$, we have:\n",
    "\n",
    "$\\displaystyle \\frac{dp}{dt} = -\\zeta p - \\omega^2_0 x + A\\cos(\\omega t)$\n",
    "\n",
    "This is in a form needed for 'odeint'. Below, notice how we pass extra parameters via `args` to the `odeint` function:"
   ]
  },
  {
   "cell_type": "code",
   "execution_count": null,
   "metadata": {
    "collapsed": true
   },
   "outputs": [],
   "source": [
    "def dy(y, t, zeta, w0, A, w):\n",
    "    \"\"\"\n",
    "    The right-hand side of the damped oscillator ODE.\n",
    "    The oscillator is subject to an external force.\n",
    "    \"\"\"\n",
    "    x, p = y[0], y[1]\n",
    "      \n",
    "    dx = p\n",
    "    dp = -zeta*p - (w0**2) * x + A*cos(w*t)\n",
    "\n",
    "    return [dx, dp]"
   ]
  },
  {
   "cell_type": "code",
   "execution_count": null,
   "metadata": {
    "collapsed": true
   },
   "outputs": [],
   "source": [
    "# Parameters [Natural frequency (w0), forcing frequency (w), force amplitude (A)]\n",
    "#[w0, w, A] = [3.0, 3.2, 1.0]  #(external forcing present; change to experiment)\n",
    "[w0, w, A] = [3.0, 0.0, 1.0]    #(no external forcing)\n",
    "zeta=0.0  #damping coefficient (change to experiment)\n",
    "\n",
    "# initial state: \n",
    "y0 = [0.0, 0.0]\n",
    "#y0 = [.5, -0.2]\n",
    "\n",
    "# time coodinate to solve the ODE for\n",
    "t = linspace(0, 100, 10000)\n",
    "\n",
    "# solve the ODE problem for three different values of the damping ratio\n",
    "# Note how we pass along the damping parameter (zeta) as part of argument list\n",
    "y1 = odeint(dy, y0, t, args=(zeta, w0, A, w)) # undamped\n",
    "\n",
    "\n",
    "# Plot\n",
    "fig, ax = subplots()\n",
    "#ax.plot(t, y1[:,0], 'k', label=\"undamped\", linewidth=0.25)\n",
    "ax.plot(t, y1[:,0],label=\"undamped\", linewidth=1.0)\n",
    "ax.legend();"
   ]
  },
  {
   "cell_type": "markdown",
   "metadata": {},
   "source": [
    "## Fast Fourier Transform (FFT)##"
   ]
  },
  {
   "cell_type": "markdown",
   "metadata": {},
   "source": [
    "### A quick example from:###\n",
    "https://scipy-lectures.github.io/intro/scipy.html#fast-fourier-transforms-scipy-fftpack\n",
    "\n",
    "We create a signal with a dominant frequency and noise added and then apply FFT to it."
   ]
  },
  {
   "cell_type": "code",
   "execution_count": null,
   "metadata": {
    "collapsed": true
   },
   "outputs": [],
   "source": [
    "time_step = 0.02\n",
    "#period = 5.0\n",
    "period = 0.05\n",
    "time_vec = arange(0, 20, time_step) # list of numbers from 0 to 20 in steps of 0.02\n",
    "sig = sin(2 * pi / period * time_vec) + \\\n",
    "      0.5 * np.random.randn(time_vec.size)  # sinusoidal signal with noise\n",
    "plot(time_vec,sig)"
   ]
  },
  {
   "cell_type": "code",
   "execution_count": null,
   "metadata": {
    "collapsed": true
   },
   "outputs": [],
   "source": [
    "from scipy import *\n",
    "sample_freq = fftfreq(sig.size, d=time_step) # obtain the list of frequencies\n",
    "sig_fft = fft(sig) # apply FFT to the signal\n",
    "#plot(sample_freq,abs(sig_fft)) # plot absolute value of signal against frequency\n",
    "#axis([0, 1, 0, 500])\n",
    "plot(sample_freq[sample_freq > 0],abs(sig_fft[sample_freq > 0])) # only positive frequencies\n",
    "#(Notice the peaks at 20, which is the dominant frequency)\n"
   ]
  },
  {
   "cell_type": "markdown",
   "metadata": {},
   "source": [
    "### FFT for the solution of Harmonic Oscillator###\n",
    "Parameters [Natural frequency (w0), forcing frequency (w), force amplitude (A)]\n",
    "\n",
    "[w0, w, A] = [3.0, 0.0, 1.0]\n",
    "\n",
    "Initial state: \n",
    "y0 = [0.0, 0.0]\n"
   ]
  },
  {
   "cell_type": "code",
   "execution_count": null,
   "metadata": {
    "collapsed": true
   },
   "outputs": [],
   "source": [
    "sig=y1[:,0]\n",
    "sig_fft = fft(sig)\n",
    "sample_freq = fftfreq(sig.size, d=0.01)\n",
    "#axis([30, 70, 0, 4000])\n",
    "#plot(abs(sig_fft))\n",
    "#axis([0.4, 0.6, 0, 500])\n",
    "axis([0.0, 1.0, 0, 500])\n",
    "plot(sample_freq[sample_freq > 0],abs(sig_fft[sample_freq > 0]))\n",
    "# The two peaks correspond to the natural and forcing frequencies."
   ]
  },
  {
   "cell_type": "markdown",
   "metadata": {},
   "source": [
    "## Some References##\n",
    "\n",
    "https://scipy-lectures.github.io/\n",
    "\n",
    "The link below is an excellent resource that includes information on QuTiP (a quantum mechanics package)\n",
    "\n",
    "https://jrjohansson.github.io/\n",
    "\n",
    "http://nbviewer.ipython.org/github/jrjohansson/scientific-python-lectures/blob/master/Lecture-2-Numpy.ipynb\n",
    "\n",
    "http://nbviewer.ipython.org/github/jrjohansson/scientific-python-lectures/blob/master/Lecture-3-Scipy.ipynb\n"
   ]
  },
  {
   "cell_type": "code",
   "execution_count": null,
   "metadata": {
    "collapsed": true
   },
   "outputs": [],
   "source": []
  }
 ],
 "metadata": {
  "kernelspec": {
   "display_name": "Python 3",
   "language": "python",
   "name": "python3"
  },
  "language_info": {
   "codemirror_mode": {
    "name": "ipython",
    "version": 3
   },
   "file_extension": ".py",
   "mimetype": "text/x-python",
   "name": "python",
   "nbconvert_exporter": "python",
   "pygments_lexer": "ipython3",
   "version": "3.6.3"
  }
 },
 "nbformat": 4,
 "nbformat_minor": 1
}
