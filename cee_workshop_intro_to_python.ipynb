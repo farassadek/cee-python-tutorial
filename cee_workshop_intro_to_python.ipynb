{
 "cells": [
  {
   "cell_type": "markdown",
   "metadata": {},
   "source": [
    "# <img style=\"float: left; padding-right: 10px;\" src=\"SEAS_Logo.png\"> CEE Computing in Engineering Education \n",
    "## A Very Short Introduction to Python\n",
    "\n",
    "\n",
    "**Spring 2019**<br>\n",
    "**Instructor:** <br>\n",
    "**Author:** Faras Sadek"
   ]
  },
  {
   "cell_type": "markdown",
   "metadata": {},
   "source": [
    "### What is Python?\n",
    "Python is a very simple, high-level dynamic and straightforward object-oriented programming language. It’s designed to be easy to program without prepared code and easy to read. Python was created in the late 1980s. It wasn’t named after the Python snake but after Monty Python. However, Python is not a comedy group but simply a programming language created by a Dutch computer programmer Guido van Rossum who is a fan of Monty Python! Python is a great building block for learning both procedural and object-oriented programming concepts, and is an ideal language for data analysis. \n",
    "\n",
    "This tutorial provides a hands-on learning with several real-world programming examples."
   ]
  },
  {
   "cell_type": "markdown",
   "metadata": {},
   "source": [
    "### Why Python\n",
    "- Python is open source software.\n",
    "- Python is Object oriented and modular\n",
    "- Python is considered as a \"glue language\" because of its ability to connect libraries and programs that are implemented in other languages.\n",
    "- Python is a general-purpose language as it strong Framework support used for writing software in a wide variety of application domains from video games to big data analytics.\n",
    "- Python is dynamic where a variable is simply a value bound to a name only versus type.\n",
    "- Python is an interpreted language, which means bits of code can be executed in a running program rather than compiling the complete program\n",
    "- Python is easy to a human readable as it’s closer to English language. Python also uses indentation to give structure to the code, which makes it easy for both humans and computers to read.\n",
    "- Python supports introspection, which is very helpful during debugging complex algorithms."
   ]
  },
  {
   "cell_type": "markdown",
   "metadata": {},
   "source": [
    "### Who is Python player?\n",
    "The fact that Python is easy to use for general tasks and is free makes it the best option for education. Python is valuable for Scientists and Engineers for data visualization and share algorithms.Since Python is a general purpose language and is a cross-platform, business firms tend to use Python to build professional applications with ease."
   ]
  },
  {
   "cell_type": "markdown",
   "metadata": {},
   "source": [
    "### Python Environment\n",
    "One can simply access python by typing python from the command line, given that python is installed (it comes by default with the Linux/Unix)."
   ]
  },
  {
   "cell_type": "markdown",
   "metadata": {},
   "source": [
    "```\n",
    "$ python\n",
    "Python 2.7.10 (default, Oct 23 2015, 19:19:21)\n",
    "[GCC 4.2.1 Compatible Apple LLVM 7.0.0 (clang-700.0.59.5)] on darwin\n",
    "Type \"help\", \"copyright\", \"credits\" or \"license\" for more information.\n",
    ">>>\n",
    "```"
   ]
  },
  {
   "cell_type": "markdown",
   "metadata": {},
   "source": [
    "### Basic Python script and program\n",
    "#### 1) input and output\n",
    "By using the input function, we can easily write instructions that will prompt the user to enter data and then incorporate that data into further processing or print the result based on the string that is provided."
   ]
  },
  {
   "cell_type": "code",
   "execution_count": 19,
   "metadata": {},
   "outputs": [
    {
     "name": "stdout",
     "output_type": "stream",
     "text": [
      "Hello World\n",
      "Hello World\n",
      "Enter your message and then press <enter>: \n",
      "my msg is  \n"
     ]
    }
   ],
   "source": [
    "# print the \"hello world\" text.\n",
    "print(\"Hello World\")\n",
    " \n",
    "# print hello world text from a variable.\n",
    "ht = \"Hello World\"\n",
    "print (ht)\n",
    " \n",
    "# input a text into a variable and print it.\n",
    "msg = input(\"Enter your message and then press <enter>: \")\n",
    "print (\"my msg is \" , msg)"
   ]
  },
  {
   "cell_type": "markdown",
   "metadata": {},
   "source": [
    "#### 2) If statements and conditions\n",
    "In conditions, we can use the “if “ statement, which is usually coupled with variables to produce more dynamic content. When the condition is satisfied, it activates the rest of the code. Similar to other languages, the “if” statement is accompanied with “else if” and “else”. However, In Python, the “else if” is represented as “elif”. "
   ]
  },
  {
   "cell_type": "code",
   "execution_count": 5,
   "metadata": {},
   "outputs": [
    {
     "name": "stdout",
     "output_type": "stream",
     "text": [
      "What is your height in inch ?123\n",
      "You are taller than the average!\n"
     ]
    }
   ],
   "source": [
    "h = int(input(\"What is your height in inch ?\"))\n",
    "if h > 68:\n",
    "    print ('You are taller than the average!')\n",
    "elif h == 68:\n",
    "    print ('You are average')\n",
    "else:\n",
    "    print ('You are shorter than the average')"
   ]
  },
  {
   "cell_type": "markdown",
   "metadata": {},
   "source": [
    "#### 3) Loops\n",
    "**a) \"For\"** : For loop allows you to loop through some code for a certain number of times.\n",
    "b) \"While\": While loop allows you to have a condition followed by some statements <br>\n",
    "and then increment the variable in the condition."
   ]
  },
  {
   "cell_type": "code",
   "execution_count": 7,
   "metadata": {},
   "outputs": [
    {
     "name": "stdout",
     "output_type": "stream",
     "text": [
      "0\n",
      "1\n",
      "2\n",
      "3\n",
      "4\n",
      "5\n",
      "6\n",
      "7\n",
      "8\n",
      "9\n"
     ]
    }
   ],
   "source": [
    "for i in range(0,10):\n",
    "    print (i)"
   ]
  },
  {
   "cell_type": "code",
   "execution_count": 9,
   "metadata": {},
   "outputs": [
    {
     "name": "stdout",
     "output_type": "stream",
     "text": [
      "0\n",
      "1\n",
      "2\n",
      "3\n",
      "4\n",
      "5\n",
      "6\n",
      "7\n",
      "8\n",
      "9\n"
     ]
    }
   ],
   "source": [
    "n = 9\n",
    "i = 0\n",
    "while i <= n:\n",
    "   print (i)\n",
    "   i = i + 1"
   ]
  },
  {
   "cell_type": "markdown",
   "metadata": {},
   "source": [
    "#### 4) Data types\n",
    " \n",
    "Everything is an object\n",
    "- Integer\n",
    "- Float\n",
    "- Decimal\n",
    "- String\n",
    "- Date"
   ]
  },
  {
   "cell_type": "code",
   "execution_count": 10,
   "metadata": {},
   "outputs": [
    {
     "data": {
      "text/plain": [
       "datetime.datetime(2019, 1, 22, 15, 22, 31, 988897)"
      ]
     },
     "execution_count": 10,
     "metadata": {},
     "output_type": "execute_result"
    }
   ],
   "source": [
    "a=10\n",
    "type (a)\n",
    "a.bit_length()\n",
    " \n",
    "a=100\n",
    "a.bit_length()\n",
    " \n",
    "(10 ** 100).bit_length()\n",
    " \n",
    "7/20\n",
    "type(7/20)\n",
    "7.0/20\n",
    "type (7.0/20)\n",
    " \n",
    "a=7.0/20\n",
    "a + 0.1\n",
    " \n",
    "s=\"simple python tutorial\"\n",
    "s.split()\n",
    "s.capitalize()\n",
    "s.find(\"python\")\n",
    "s.replace(\" \", \"/\")\n",
    " \n",
    "from datetime import datetime\n",
    "datetime.now()"
   ]
  },
  {
   "cell_type": "markdown",
   "metadata": {},
   "source": [
    "#### 5) List, tuple and dictionary\n",
    "Python’s basic data structure is the sequence. Each element of a sequence is assigned an index that starts with **zero**. In this section we will be showing you the most common types of sequences in Python:\n",
    "\n",
    "- A list can be represented as a comma-separated values (items) between square brackets. These items in a list need not be of the same type.\n",
    "\n",
    "- A tuple is a sequence of immutable Python objects that can be represented by a different comma-separated values, and optionally between parentheses.\n",
    "\n",
    "Differences between tuples and lists:\n",
    "Tuples cannot be changed while lists can be changed\n",
    "\n",
    "Tuples use parentheses, whereas lists use square brackets\n",
    "\n",
    "- A dictionary is another useful data type built into Python, which consists of a series of key -> value mappings. Keys are immutable data type such as strings, numbers, or tuples and should be unique within a dictionary while values may not be and can be of any type. Each key is separated from its value by a colon (:), the items are separated by commas (,) the whole statement is enclosed in curly braces {}."
   ]
  },
  {
   "cell_type": "code",
   "execution_count": 11,
   "metadata": {},
   "outputs": [
    {
     "name": "stdout",
     "output_type": "stream",
     "text": [
      "10\n",
      "32\n",
      "99\n",
      "3\n"
     ]
    },
    {
     "ename": "TypeError",
     "evalue": "'type' object does not support item assignment",
     "output_type": "error",
     "traceback": [
      "\u001b[0;31m---------------------------------------------------------------------------\u001b[0m",
      "\u001b[0;31mTypeError\u001b[0m                                 Traceback (most recent call last)",
      "\u001b[0;32m<ipython-input-11-b4ad31fee397>\u001b[0m in \u001b[0;36m<module>\u001b[0;34m\u001b[0m\n\u001b[1;32m      9\u001b[0m \u001b[0mtuple1\u001b[0m \u001b[0;34m=\u001b[0m \u001b[0;34m(\u001b[0m\u001b[0;36m1\u001b[0m\u001b[0;34m,\u001b[0m\u001b[0;36m2\u001b[0m\u001b[0;34m,\u001b[0m\u001b[0;36m3\u001b[0m\u001b[0;34m,\u001b[0m\u001b[0;36m4\u001b[0m\u001b[0;34m)\u001b[0m\u001b[0;34m\u001b[0m\u001b[0m\n\u001b[1;32m     10\u001b[0m \u001b[0mprint\u001b[0m \u001b[0;34m(\u001b[0m\u001b[0mtuple1\u001b[0m\u001b[0;34m[\u001b[0m\u001b[0;36m2\u001b[0m\u001b[0;34m]\u001b[0m\u001b[0;34m)\u001b[0m\u001b[0;34m\u001b[0m\u001b[0m\n\u001b[0;32m---> 11\u001b[0;31m \u001b[0mtuple\u001b[0m\u001b[0;34m[\u001b[0m\u001b[0;36m2\u001b[0m\u001b[0;34m]\u001b[0m \u001b[0;34m=\u001b[0m \u001b[0;36m99\u001b[0m\u001b[0;34m\u001b[0m\u001b[0m\n\u001b[0m\u001b[1;32m     12\u001b[0m \u001b[0mprint\u001b[0m \u001b[0;34m(\u001b[0m\u001b[0mtuple1\u001b[0m\u001b[0;34m[\u001b[0m\u001b[0;36m2\u001b[0m\u001b[0;34m]\u001b[0m\u001b[0;34m)\u001b[0m\u001b[0;34m\u001b[0m\u001b[0m\n\u001b[1;32m     13\u001b[0m \u001b[0;34m\u001b[0m\u001b[0m\n",
      "\u001b[0;31mTypeError\u001b[0m: 'type' object does not support item assignment"
     ]
    }
   ],
   "source": [
    "# List Example\n",
    "list1 = [5,2,10,48,32,16,49,10,11,32]\n",
    "print(len(list1))\n",
    "print (list1[4])\n",
    "list1[4] = 99\n",
    "print (list1[4])\n",
    " \n",
    "# Tuple Example\n",
    "tuple1 = (1,2,3,4)\n",
    "print (tuple1[2])\n",
    "tuple[2] = 99\n",
    "print (tuple1[2])\n",
    " \n",
    "# Dictionary Example\n",
    "person = { 'name':'Tom', 'age':'45' }\n",
    "print(person)\n",
    "del person['name']\n",
    "print(person) "
   ]
  },
  {
   "cell_type": "markdown",
   "metadata": {},
   "source": [
    "#### 6) Function\n",
    "Functions are user-defined functions which and can be reusable in the code which is used to perform a single, related action.\n",
    "Functions in Python are defined by using the keyword def and the function name."
   ]
  },
  {
   "cell_type": "code",
   "execution_count": 16,
   "metadata": {},
   "outputs": [
    {
     "name": "stdout",
     "output_type": "stream",
     "text": [
      "768\n",
      "python: can't open file 'program_py.py': [Errno 2] No such file or directory\r\n"
     ]
    }
   ],
   "source": [
    "#!/usr/bin/env python\n",
    " \n",
    "def multipytwonumber(a,b):\n",
    "    value = (a * b)\n",
    "    return value\n",
    " \n",
    "list1 = [5,2,10,48,32,16,49,10,11,32]\n",
    "result = multipytwonumber(list1[3],list1[5])\n",
    "print(result)\n",
    " \n",
    "# Save the above code to a file (program_py.py) and from the command line write \n",
    "! python program_py.py"
   ]
  },
  {
   "cell_type": "markdown",
   "metadata": {},
   "source": [
    "#### 8) Files\n",
    "Essential part of programming is being able to read and write from files. Python as other languages enables you to read and write to files in a very easy steps. \n",
    "**1) Read**"
   ]
  },
  {
   "cell_type": "markdown",
   "metadata": {},
   "source": [
    "```\n",
    "#!/usr/bin/env python\n",
    " \n",
    "filename = \"/tmp/README\"\n",
    "with open(filename) as f:\n",
    "    content = f.readlines()\n",
    "print(content)\n",
    "```"
   ]
  },
  {
   "cell_type": "markdown",
   "metadata": {},
   "source": [
    "**2) Write**"
   ]
  },
  {
   "cell_type": "markdown",
   "metadata": {},
   "source": [
    "```\n",
    "#!/usr/bin/env python\n",
    "  \n",
    "f = open(\"/tmp/README\",\"w\")\n",
    "f.write(\"This is Python Tutorial, \\n\")\n",
    "f.write(\"With some examples.\\n\")\n",
    "f.close()\n",
    "```"
   ]
  },
  {
   "cell_type": "markdown",
   "metadata": {},
   "source": [
    "#### 3) test"
   ]
  },
  {
   "cell_type": "markdown",
   "metadata": {},
   "source": [
    "```\n",
    "$> python write_file.py\n",
    "$> python read_file.py\n",
    "['This is Python Tutorial, \\n', 'With some examples.\\n']\n",
    " \n",
    " \n",
    "$> cat /tmp/README\n",
    "This is Python Tutorial,\n",
    "With some examples.\n",
    "```"
   ]
  },
  {
   "cell_type": "markdown",
   "metadata": {},
   "source": [
    "### Interactive Python IPython"
   ]
  },
  {
   "cell_type": "markdown",
   "metadata": {},
   "source": [
    "### Putting It All Together"
   ]
  },
  {
   "cell_type": "code",
   "execution_count": null,
   "metadata": {},
   "outputs": [],
   "source": []
  }
 ],
 "metadata": {
  "kernelspec": {
   "display_name": "Python 3",
   "language": "python",
   "name": "python3"
  },
  "language_info": {
   "codemirror_mode": {
    "name": "ipython",
    "version": 3
   },
   "file_extension": ".py",
   "mimetype": "text/x-python",
   "name": "python",
   "nbconvert_exporter": "python",
   "pygments_lexer": "ipython3",
   "version": "3.6.6"
  }
 },
 "nbformat": 4,
 "nbformat_minor": 2
}
