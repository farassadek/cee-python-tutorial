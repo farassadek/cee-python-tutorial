{
  "nbformat": 4,
  "nbformat_minor": 0,
  "metadata": {
    "colab": {
      "name": "cee_workshop_intro_to_python.ipynb",
      "version": "0.3.2",
      "provenance": []
    },
    "kernelspec": {
      "display_name": "Python 3",
      "language": "python",
      "name": "python3"
    }
  },
  "cells": [
    {
      "metadata": {
        "id": "tkIEFjByHj4l",
        "colab_type": "text"
      },
      "cell_type": "markdown",
      "source": [
        "# <img style=\"float: left; padding-right: 10px;\" src=\"https://github.com/farassadek/cee-python-tutorial/blob/master/SEAS_Logo.png?raw=1\"> CEE Computing in Engineering Education \n",
        "## A Very Short Introduction to Python\n",
        "\n",
        "\n",
        "**Spring 2019**<br>\n",
        "**Instructor:** <br>\n",
        "**Author:** Faras Sadek"
      ]
    },
    {
      "metadata": {
        "id": "Z0tkG851Hj4o",
        "colab_type": "text"
      },
      "cell_type": "markdown",
      "source": [
        "### What is Python?\n",
        "Python is a very simple, high-level dynamic and straightforward object-oriented programming language. It’s designed to be easy to program without prepared code and easy to read. Python was created in the late 1980s. It wasn’t named after the Python snake but after Monty Python. However, Python is not a comedy group but simply a programming language created by a Dutch computer programmer Guido van Rossum who is a fan of Monty Python! Python is a great building block for learning both procedural and object-oriented programming concepts, and is an ideal language for data analysis. \n",
        "\n",
        "This tutorial provides a hands-on learning with several real-world programming examples."
      ]
    },
    {
      "metadata": {
        "id": "aVkv8tnnHj4p",
        "colab_type": "text"
      },
      "cell_type": "markdown",
      "source": [
        "### Why Python\n",
        "- Python is open source software.\n",
        "- Python is Object oriented and modular\n",
        "- Python is considered as a \"glue language\" because of its ability to connect libraries and programs that are implemented in other languages.\n",
        "- Python is a general-purpose language as it strong Framework support used for writing software in a wide variety of application domains from video games to big data analytics.\n",
        "- Python is dynamic where a variable is simply a value bound to a name only versus type.\n",
        "- Python is an interpreted language, which means bits of code can be executed in a running program rather than compiling the complete program\n",
        "- Python is easy to a human readable as it’s closer to English language. Python also uses indentation to give structure to the code, which makes it easy for both humans and computers to read.\n",
        "- Python supports introspection, which is very helpful during debugging complex algorithms."
      ]
    },
    {
      "metadata": {
        "id": "TWr31M04Hj4p",
        "colab_type": "text"
      },
      "cell_type": "markdown",
      "source": [
        "### Who is Python player?\n",
        "The fact that Python is easy to use for general tasks and is free, makes it the best option for education. Python is valuable for Scientists and Engineers for data visualization and share algorithms.Since Python is a general purpose language and is a cross-platform, business firms tend to use Python to build professional applications with ease."
      ]
    },
    {
      "metadata": {
        "id": "g18R04JzHj4q",
        "colab_type": "text"
      },
      "cell_type": "markdown",
      "source": [
        "### Python Environment\n",
        "Python comes by default with both linux and Mac systems. Windows users should install python to use it. To start using python on linux system just type python on the command line, as shown below\n",
        "Note that in this tutorial you do not need to use the command line since we are using the notebooks, the notebooks in turn will use the python on the system where it runs"
      ]
    },
    {
      "metadata": {
        "id": "fBRwbRPgHj4q",
        "colab_type": "text"
      },
      "cell_type": "markdown",
      "source": [
        "```\n",
        "$ python\n",
        "Python 2.7.10 (default, Oct 23 2015, 19:19:21)\n",
        "[GCC 4.2.1 Compatible Apple LLVM 7.0.0 (clang-700.0.59.5)] on darwin\n",
        "Type \"help\", \"copyright\", \"credits\" or \"license\" for more information.\n",
        ">>>\n",
        "```"
      ]
    },
    {
      "metadata": {
        "id": "Gh_mf5TcHj4s",
        "colab_type": "text"
      },
      "cell_type": "markdown",
      "source": [
        "### Basic Python script and program\n",
        "#### 1) input and output\n",
        "By using the input function, we can easily write instructions that will prompt the user to enter data and then incorporate that data into further processing or print the result based on the string that is provided."
      ]
    },
    {
      "metadata": {
        "id": "GrxKiogRHj4t",
        "colab_type": "code",
        "colab": {}
      },
      "cell_type": "code",
      "source": [
        "# print the \"hello world\" text.\n",
        "print(\"Hello World\")\n",
        " \n",
        "# print hello world text from a variable.\n",
        "ht = \"Hello World\"\n",
        "print (ht)\n",
        " \n",
        "# input a text into a variable and print it.\n",
        "msg = input(\"Enter your message and then press <enter>: \")\n",
        "print (\"my msg is \" , msg)"
      ],
      "execution_count": 0,
      "outputs": []
    },
    {
      "metadata": {
        "id": "s2Z0rpaOHj4y",
        "colab_type": "text"
      },
      "cell_type": "markdown",
      "source": [
        "#### 2) If statements and conditions\n",
        "In conditions, we can use the “if “ statement, which is usually coupled with variables to produce more dynamic content. When the condition is satisfied, it activates the rest of the code. Similar to other languages, the “if” statement is accompanied with “else if” and “else”. However, In Python, the “else if” is represented as “elif”. "
      ]
    },
    {
      "metadata": {
        "id": "RfWWfCbJHj4z",
        "colab_type": "code",
        "colab": {}
      },
      "cell_type": "code",
      "source": [
        "h = int(input(\"What is your height in inch ?\"))\n",
        "if h > 68:\n",
        "    print ('You are taller than the average!')\n",
        "elif h == 68:\n",
        "    print ('You are average')\n",
        "else:\n",
        "    print ('You are shorter than the average')"
      ],
      "execution_count": 0,
      "outputs": []
    },
    {
      "metadata": {
        "id": "fueV9dX4Hj42",
        "colab_type": "text"
      },
      "cell_type": "markdown",
      "source": [
        "#### 3) Loops\n",
        "**a) \"For\"** : For loop allows you to loop through some code for a certain number of times.\n",
        "b) \"While\": While loop allows you to have a condition followed by some statements <br>\n",
        "and then increment the variable in the condition."
      ]
    },
    {
      "metadata": {
        "id": "VQifDO6PHj43",
        "colab_type": "code",
        "colab": {}
      },
      "cell_type": "code",
      "source": [
        "for i in range(0,10):\n",
        "    print (i)"
      ],
      "execution_count": 0,
      "outputs": []
    },
    {
      "metadata": {
        "id": "VmkLYjUyHj5C",
        "colab_type": "code",
        "colab": {}
      },
      "cell_type": "code",
      "source": [
        "n = 9\n",
        "i = 0\n",
        "while i <= n:\n",
        "   print (i)\n",
        "   i = i + 1"
      ],
      "execution_count": 0,
      "outputs": []
    },
    {
      "metadata": {
        "id": "p50Pk7VlHj5F",
        "colab_type": "text"
      },
      "cell_type": "markdown",
      "source": [
        "#### 4) Data types\n",
        " \n",
        "Everything is an object\n",
        "- Integer\n",
        "- Float\n",
        "- Decimal\n",
        "- String\n",
        "- Date"
      ]
    },
    {
      "metadata": {
        "id": "9npkMtv2Hj5F",
        "colab_type": "code",
        "colab": {}
      },
      "cell_type": "code",
      "source": [
        "a=10\n",
        "type (a)\n",
        "a.bit_length()\n",
        " \n",
        "a=100\n",
        "a.bit_length()\n",
        " \n",
        "(10 ** 100).bit_length()\n",
        " \n",
        "7/20\n",
        "type(7/20)\n",
        "7.0/20\n",
        "type (7.0/20)\n",
        " \n",
        "a=7.0/20\n",
        "a + 0.1\n",
        " \n",
        "s=\"simple python tutorial\"\n",
        "s.split()\n",
        "s.capitalize()\n",
        "s.find(\"python\")\n",
        "s.replace(\" \", \"/\")\n",
        " \n",
        "from datetime import datetime\n",
        "datetime.now()"
      ],
      "execution_count": 0,
      "outputs": []
    },
    {
      "metadata": {
        "id": "8zUfstymHj5J",
        "colab_type": "text"
      },
      "cell_type": "markdown",
      "source": [
        "#### 5) List, tuple and dictionary\n",
        "Python’s basic data structure is the sequence. Each element of a sequence is assigned an index that starts with **zero**. In this section we will be showing you the most common types of sequences in Python:\n",
        "\n",
        "- A list can be represented as a comma-separated values (items) between square brackets. These items in a list need not be of the same type.\n",
        "\n",
        "- A tuple is a sequence of immutable Python objects that can be represented by a different comma-separated values, and optionally between parentheses.\n",
        "\n",
        "Differences between tuples and lists:\n",
        "Tuples cannot be changed while lists can be changed\n",
        "\n",
        "Tuples use parentheses, whereas lists use square brackets\n",
        "\n",
        "- A dictionary is another useful data type built into Python, which consists of a series of key -> value mappings. Keys are immutable data type such as strings, numbers, or tuples and should be unique within a dictionary while values may not be and can be of any type. Each key is separated from its value by a colon (:), the items are separated by commas (,) the whole statement is enclosed in curly braces {}."
      ]
    },
    {
      "metadata": {
        "id": "2vegZES-Hj5K",
        "colab_type": "code",
        "colab": {}
      },
      "cell_type": "code",
      "source": [
        "# List Example\n",
        "list1 = [5,2,10,48,32,16,49,10,11,32]\n",
        "print(len(list1))\n",
        "print (list1[4])\n",
        "list1[4] = 99\n",
        "print (list1[4])\n",
        " \n",
        "# Tuple Example\n",
        "tuple1 = (1,2,3,4)\n",
        "print (tuple1[2])\n",
        "tuple[2] = 99\n",
        "print (tuple1[2])\n",
        " \n",
        "# Dictionary Example\n",
        "person = { 'name':'Tom', 'age':'45' }\n",
        "print(person)\n",
        "del person['name']\n",
        "print(person) "
      ],
      "execution_count": 0,
      "outputs": []
    },
    {
      "metadata": {
        "id": "6146chrdHj5O",
        "colab_type": "text"
      },
      "cell_type": "markdown",
      "source": [
        "#### 6) Function\n",
        "Functions are user-defined functions which and can be reusable in the code which is used to perform a single, related action.\n",
        "Functions in Python are defined by using the keyword def and the function name."
      ]
    },
    {
      "metadata": {
        "id": "42xQrhyaHj5O",
        "colab_type": "code",
        "colab": {}
      },
      "cell_type": "code",
      "source": [
        "#!/usr/bin/env python\n",
        " \n",
        "def multipytwonumber(a,b):\n",
        "    value = (a * b)\n",
        "    return value\n",
        " \n",
        "list1 = [5,2,10,48,32,16,49,10,11,32]\n",
        "result = multipytwonumber(list1[3],list1[5])\n",
        "print(result)\n",
        " \n",
        "# Save the above code to a file (program_py.py) and from the command line write \n",
        "! python program_py.py"
      ],
      "execution_count": 0,
      "outputs": []
    },
    {
      "metadata": {
        "id": "AyFnPx7kHj5S",
        "colab_type": "text"
      },
      "cell_type": "markdown",
      "source": [
        "#### 8) Files\n",
        "Essential part of programming is being able to read and write from files. Python as other languages enables you to read and write to files in a very easy steps. \n",
        "**1) Read**"
      ]
    },
    {
      "metadata": {
        "id": "JaubTZTSHj5T",
        "colab_type": "text"
      },
      "cell_type": "markdown",
      "source": [
        "```\n",
        "#!/usr/bin/env python\n",
        " \n",
        "filename = \"/tmp/README\"\n",
        "with open(filename) as f:\n",
        "    content = f.readlines()\n",
        "print(content)\n",
        "```"
      ]
    },
    {
      "metadata": {
        "id": "K7ij1PXqHj5U",
        "colab_type": "text"
      },
      "cell_type": "markdown",
      "source": [
        "**2) Write**"
      ]
    },
    {
      "metadata": {
        "id": "v276S-YsHj5V",
        "colab_type": "text"
      },
      "cell_type": "markdown",
      "source": [
        "```\n",
        "#!/usr/bin/env python\n",
        "  \n",
        "f = open(\"/tmp/README\",\"w\")\n",
        "f.write(\"This is Python Tutorial, \\n\")\n",
        "f.write(\"With some examples.\\n\")\n",
        "f.close()\n",
        "```"
      ]
    },
    {
      "metadata": {
        "id": "Ho6Avm4vHj5W",
        "colab_type": "text"
      },
      "cell_type": "markdown",
      "source": [
        "#### 3) test"
      ]
    },
    {
      "metadata": {
        "id": "zkMNYbeCHj5W",
        "colab_type": "text"
      },
      "cell_type": "markdown",
      "source": [
        "```\n",
        "$> python write_file.py\n",
        "$> python read_file.py\n",
        "['This is Python Tutorial, \\n', 'With some examples.\\n']\n",
        " \n",
        " \n",
        "$> cat /tmp/README\n",
        "This is Python Tutorial,\n",
        "With some examples.\n",
        "```"
      ]
    },
    {
      "metadata": {
        "id": "6tqZ3l9THj5W",
        "colab_type": "text"
      },
      "cell_type": "markdown",
      "source": [
        "### Interactive Python IPython"
      ]
    },
    {
      "metadata": {
        "id": "1qYp0OsBHj5X",
        "colab_type": "text"
      },
      "cell_type": "markdown",
      "source": [
        "### Putting It All Together"
      ]
    },
    {
      "metadata": {
        "id": "9bsT1Q2qHj5Z",
        "colab_type": "code",
        "colab": {}
      },
      "cell_type": "code",
      "source": [
        ""
      ],
      "execution_count": 0,
      "outputs": []
    }
  ]
}
