{
 "cells": [
  {
   "cell_type": "markdown",
   "metadata": {
    "colab_type": "text",
    "id": "tkIEFjByHj4l"
   },
   "source": [
    "# <img style=\"float: left; padding-right: 10px;\" src=\"https://github.com/farassadek/cee-python-tutorial/blob/master/SEAS_Logo.png?raw=1\"> CEE Computing in Engineering Education \n",
    "## A Very Short Introduction to Python\n",
    "\n",
    "\n",
    "**Spring 2019**<br>\n",
    "**Instructor:** <br>\n",
    "**Author:** Faras Sadek"
   ]
  },
  {
   "cell_type": "markdown",
   "metadata": {
    "colab_type": "text",
    "id": "Z0tkG851Hj4o"
   },
   "source": [
    "### What is Python?\n",
    "Python is a very simple, high-level dynamic and straightforward object-oriented programming language. It’s designed to be easy to program without prepared code and easy to read. Python was created in the late 1980s. It wasn’t named after the Python snake but after Monty Python. However, Python is not a comedy group but simply a programming language created by a Dutch computer programmer Guido van Rossum who is a fan of Monty Python! Python is a great building block for learning both procedural and object-oriented programming concepts, and is an ideal language for data analysis. \n",
    "\n",
    "This tutorial provides a hands-on learning with several real-world programming examples."
   ]
  },
  {
   "cell_type": "markdown",
   "metadata": {
    "colab_type": "text",
    "id": "aVkv8tnnHj4p"
   },
   "source": [
    "### Why Python\n",
    "- Python is open source software.\n",
    "- Python is Object oriented and modular\n",
    "- Python is considered as a \"glue language\" because of its ability to connect libraries and programs that are implemented in other languages.\n",
    "- Python is a general-purpose language as it strong Framework support used for writing software in a wide variety of application domains from video games to big data analytics.\n",
    "- Python is dynamic where a variable is simply a value bound to a name only versus type.\n",
    "- Python is an interpreted language, which means bits of code can be executed in a running program rather than compiling the complete program\n",
    "- Python is easy to a human readable as it’s closer to English language. Python also uses indentation to give structure to the code, which makes it easy for both humans and computers to read.\n",
    "- Python supports introspection, which is very helpful during debugging complex algorithms."
   ]
  },
  {
   "cell_type": "markdown",
   "metadata": {
    "colab_type": "text",
    "id": "TWr31M04Hj4p"
   },
   "source": [
    "### Who is Python player?\n",
    "The fact that Python is easy to use for general tasks and is free, makes it the best option for education. Python is valuable for Scientists and Engineers for data visualization and share algorithms.Since Python is a general purpose language and is a cross-platform, business firms tend to use Python to build professional applications with ease."
   ]
  },
  {
   "cell_type": "markdown",
   "metadata": {
    "colab_type": "text",
    "id": "g18R04JzHj4q"
   },
   "source": [
    "### Python Versions\n",
    "\n",
    "Python have two main versions: Python 2 and Python 3. There is a lot of debate in python cusers about which version to use. You can use whatever version you like but note that there are some differences between those to major versions. Also It is always better to learn the new version as the old one might be obselete at sometime.\n",
    "In this tutorial we might alternate between the two."
   ]
  },
  {
   "cell_type": "markdown",
   "metadata": {
    "colab_type": "text",
    "id": "g18R04JzHj4q"
   },
   "source": [
    "### Python Environment\n",
    "Python comes by default with both linux and Mac systems. Windows users should install python to use it. To start using python on linux system just type python on the command line, as shown below.\n",
    "\n",
    "(Note that in this tutorial you do not need to use the command line since we are using the notebooks, the notebooks in turn will use the python on the system where it runs)"
   ]
  },
  {
   "cell_type": "code",
   "execution_count": null,
   "metadata": {
    "colab_type": "text",
    "id": "fBRwbRPgHj4q"
   },
   "outputs": [],
   "source": [
    "python2\n",
    "Python 2.7.5 (default, Oct 30 2018, 23:45:53) \n",
    "[GCC 4.8.5 20150623 (Red Hat 4.8.5-36)] on linux2\n",
    "Type \"help\", \"copyright\", \"credits\" or \"license\" for more information.\n",
    ">>> \n",
    ">>> \n",
    ">>> print \"Hello Python\"\n",
    "Hello Python\n",
    ">>> \n",
    ">>> print (\"Hello Python\")\n",
    "Hello Python\n",
    ">>> \n",
    ">>> "
   ]
  },
  {
   "cell_type": "code",
   "execution_count": null,
   "metadata": {
    "colab_type": "text",
    "id": "fBRwbRPgHj4q"
   },
   "outputs": [],
   "source": [
    "python3\n",
    "Python 3.4.9 (default, Aug 14 2018, 21:28:57) \n",
    "[GCC 4.8.5 20150623 (Red Hat 4.8.5-28)] on linux\n",
    "Type \"help\", \"copyright\", \"credits\" or \"license\" for more information.\n",
    ">>> \n",
    ">>>\n",
    ">>> print \"Hello Python\"\n",
    "  File \"<stdin>\", line 1\n",
    "    print \"Hello Python\"\n",
    "                       ^\n",
    "SyntaxError: Missing parentheses in call to 'print'\n",
    ">>> \n",
    ">>> \n",
    ">>> \n",
    ">>> print (\"Hello Python\")\n",
    "Hello Python\n",
    ">>> "
   ]
  },
  {
   "cell_type": "markdown",
   "metadata": {
    "colab_type": "text",
    "id": "Gh_mf5TcHj4s"
   },
   "source": [
    "### Basic Python script and program\n",
    "#### 1) input and output\n",
    "By using the input function, we can easily write instructions that will prompt the user to enter data and then incorporate that data into further processing or print the result based on the string that is provided."
   ]
  },
  {
   "cell_type": "code",
   "execution_count": null,
   "metadata": {
    "colab": {},
    "colab_type": "code",
    "id": "GrxKiogRHj4t"
   },
   "outputs": [],
   "source": [
    "# print the \"hello Python\" text.\n",
    "print(\"Hello Python\")\n",
    " \n",
    "# print hello Python text from a variable.\n",
    "ht = \"Hello Python\"\n",
    "print (ht)\n",
    " \n",
    "# input a text into a variable and print it.\n",
    "msg = input(\"Enter your message and then press <enter>: \")\n",
    "print (\"my msg is \" , msg)"
   ]
  },
  {
   "cell_type": "markdown",
   "metadata": {
    "colab_type": "text",
    "id": "s2Z0rpaOHj4y"
   },
   "source": [
    "#### 2) If statements and conditions\n",
    "In conditions, we can use the “if “ statement, which is usually coupled with variables to produce more dynamic content. When the condition is satisfied, it activates the rest of the code. Similar to other languages, the “if” statement is accompanied with “else if” and “else”. However, In Python, the “else if” is represented as “elif”. "
   ]
  },
  {
   "cell_type": "code",
   "execution_count": null,
   "metadata": {
    "colab": {},
    "colab_type": "code",
    "id": "RfWWfCbJHj4z"
   },
   "outputs": [],
   "source": [
    "h = int(input(\"What is your height in inch ?\"))\n",
    "if h > 68:\n",
    "    print ('You are taller than the average!')\n",
    "elif h == 68:\n",
    "    print ('You are average')\n",
    "else:\n",
    "    print ('You are shorter than the average')"
   ]
  },
  {
   "cell_type": "markdown",
   "metadata": {
    "colab_type": "text",
    "id": "fueV9dX4Hj42"
   },
   "source": [
    "#### 3) Loops\n",
    "**a) \"For\"** : For loop allows you to loop through some code for a certain number of times.\n",
    "\n",
    "**b) \"While\"** : While loop allows you to have a condition followed by some statements <br>\n",
    "and then increment the variable in the condition."
   ]
  },
  {
   "cell_type": "code",
   "execution_count": null,
   "metadata": {
    "colab": {},
    "colab_type": "code",
    "id": "VQifDO6PHj43"
   },
   "outputs": [],
   "source": [
    "for i in range(0,10):\n",
    "    print (i)"
   ]
  },
  {
   "cell_type": "code",
   "execution_count": null,
   "metadata": {
    "colab": {},
    "colab_type": "code",
    "id": "VmkLYjUyHj5C"
   },
   "outputs": [],
   "source": [
    "n = 9\n",
    "i = 0\n",
    "while i <= n:\n",
    "   print (i)\n",
    "   i = i + 1"
   ]
  },
  {
   "cell_type": "markdown",
   "metadata": {
    "colab_type": "text",
    "id": "p50Pk7VlHj5F"
   },
   "source": [
    "#### 4) Data types\n",
    " \n",
    "Everything is an object\n",
    "- Integer\n",
    "- Float\n",
    "- Decimal\n",
    "- String\n",
    "- Date"
   ]
  },
  {
   "cell_type": "code",
   "execution_count": null,
   "metadata": {
    "colab": {},
    "colab_type": "code",
    "id": "9npkMtv2Hj5F"
   },
   "outputs": [],
   "source": [
    "a=10\n",
    "type (a)\n",
    "print (\"length of the object \\\"a\\\" with value 10 is \" , a.bit_length()) \n",
    " \n",
    "a=100\n",
    "print (\"While length of the integer object \\\"a\\\" with value 100 is: \" , a.bit_length()) \n",
    "\n",
    "a = (10 ** 100) # 10 to power 100 \n",
    "print (\"what is the length of the variable \\\"a\\\" ? \")\n",
    "#alength = a.bit_length()\n",
    "#print (alength)"
   ]
  },
  {
   "cell_type": "code",
   "execution_count": null,
   "metadata": {
    "colab": {},
    "colab_type": "code",
    "id": "9npkMtv2Hj5F"
   },
   "outputs": [],
   "source": [
    "print (7/20)\n",
    "print (type(7/20))\n",
    "\n",
    "print(7.0/20)\n",
    "type (7.0/20)\n",
    " "
   ]
  },
  {
   "cell_type": "code",
   "execution_count": null,
   "metadata": {
    "colab": {},
    "colab_type": "code",
    "id": "9npkMtv2Hj5F"
   },
   "outputs": [],
   "source": [
    "a=7.0/20\n",
    "print(a)\n",
    "\n",
    "a += 0.1\n",
    "print(a)\n",
    "\n",
    "a = a + 0.1\n",
    "a"
   ]
  },
  {
   "cell_type": "code",
   "execution_count": null,
   "metadata": {
    "colab": {},
    "colab_type": "code",
    "id": "9npkMtv2Hj5F"
   },
   "outputs": [],
   "source": [
    "s=\"simple python tutorial\"\n",
    "s.split()\n",
    "s.capitalize()\n",
    "s.find(\"python\")\n",
    "s.replace(\" \", \"/\")"
   ]
  },
  {
   "cell_type": "code",
   "execution_count": null,
   "metadata": {},
   "outputs": [],
   "source": [
    "from datetime import datetime\n",
    "datetime.now()"
   ]
  },
  {
   "cell_type": "markdown",
   "metadata": {
    "colab_type": "text",
    "id": "8zUfstymHj5J"
   },
   "source": [
    "#### 5) List, tuple and dictionary\n",
    "Python’s basic data structure is the sequence. Each element of a sequence is assigned an index that starts with **zero**. In this section we will be showing you the most common types of sequences in Python:\n",
    "\n",
    "- A list can be represented as a comma-separated values (items) between square brackets. These items in a list need not be of the same type.\n",
    "\n",
    "- A tuple is a sequence of immutable Python objects that can be represented by a different comma-separated values, and optionally between parentheses.\n",
    "\n",
    "Differences between tuples and lists:\n",
    "Tuples cannot be changed while lists can be changed\n",
    "\n",
    "Tuples use parentheses, whereas lists use square brackets\n",
    "\n",
    "- A dictionary is another useful data type built into Python, which consists of a series of key -> value mappings. Keys are immutable data type such as strings, numbers, or tuples and should be unique within a dictionary while values may not be and can be of any type. Each key is separated from its value by a colon (:), the items are separated by commas (,) the whole statement is enclosed in curly braces {}."
   ]
  },
  {
   "cell_type": "code",
   "execution_count": null,
   "metadata": {
    "colab": {},
    "colab_type": "code",
    "id": "2vegZES-Hj5K"
   },
   "outputs": [],
   "source": [
    "# List Example\n",
    "list1 = [5,2,10,48,32,16,49,10,11,32]\n",
    "print(len(list1))\n",
    "print (list1[4])\n",
    "list1[4] = 99\n",
    "print (list1[4])\n",
    " \n",
    "# Tuple Example\n",
    "tuple1 = (1,2,3,4)\n",
    "print (tuple1[2])\n",
    "tuple[2] = 99\n",
    "print (tuple1[2])\n",
    " \n",
    "# Dictionary Example\n",
    "person = { 'name':'Tom', 'age':'45' }\n",
    "print(person)\n",
    "del person['name']\n",
    "print(person) "
   ]
  },
  {
   "cell_type": "markdown",
   "metadata": {
    "colab_type": "text",
    "id": "6146chrdHj5O"
   },
   "source": [
    "#### 6) Function\n",
    "Functions are user-defined functions which and can be reusable in the code which is used to perform a single, related action.\n",
    "Functions in Python are defined by using the keyword def and the function name."
   ]
  },
  {
   "cell_type": "code",
   "execution_count": null,
   "metadata": {
    "colab": {},
    "colab_type": "code",
    "id": "42xQrhyaHj5O"
   },
   "outputs": [],
   "source": [
    "#!/usr/bin/env python\n",
    " \n",
    "def multipytwonumber(a,b):\n",
    "    value = (a * b)\n",
    "    return value\n",
    " \n",
    "list1 = [5,2,10,48,32,16,49,10,11,32]\n",
    "result = multipytwonumber(list1[3],list1[5])\n",
    "print(result)\n",
    " \n",
    "# Save the above code to a file (program_py.py) and from the command line write \n",
    "! python program_py.py"
   ]
  },
  {
   "cell_type": "markdown",
   "metadata": {
    "colab_type": "text",
    "id": "AyFnPx7kHj5S"
   },
   "source": [
    "#### 8) Files\n",
    "Essential part of programming is being able to read and write from files. Python as other languages enables you to read and write to files in a very easy steps. \n",
    "**1) Read**"
   ]
  },
  {
   "cell_type": "markdown",
   "metadata": {
    "colab_type": "text",
    "id": "JaubTZTSHj5T"
   },
   "source": [
    "```\n",
    "#!/usr/bin/env python\n",
    " \n",
    "filename = \"/tmp/README\"\n",
    "with open(filename) as f:\n",
    "    content = f.readlines()\n",
    "print(content)\n",
    "```"
   ]
  },
  {
   "cell_type": "markdown",
   "metadata": {
    "colab_type": "text",
    "id": "K7ij1PXqHj5U"
   },
   "source": [
    "**2) Write**"
   ]
  },
  {
   "cell_type": "markdown",
   "metadata": {
    "colab_type": "text",
    "id": "v276S-YsHj5V"
   },
   "source": [
    "```\n",
    "#!/usr/bin/env python\n",
    "  \n",
    "f = open(\"/tmp/README\",\"w\")\n",
    "f.write(\"This is Python Tutorial, \\n\")\n",
    "f.write(\"With some examples.\\n\")\n",
    "f.close()\n",
    "```"
   ]
  },
  {
   "cell_type": "markdown",
   "metadata": {
    "colab_type": "text",
    "id": "Ho6Avm4vHj5W"
   },
   "source": [
    "#### 3) test"
   ]
  },
  {
   "cell_type": "markdown",
   "metadata": {
    "colab_type": "text",
    "id": "zkMNYbeCHj5W"
   },
   "source": [
    "```\n",
    "$> python write_file.py\n",
    "$> python read_file.py\n",
    "['This is Python Tutorial, \\n', 'With some examples.\\n']\n",
    " \n",
    " \n",
    "$> cat /tmp/README\n",
    "This is Python Tutorial,\n",
    "With some examples.\n",
    "```"
   ]
  },
  {
   "cell_type": "markdown",
   "metadata": {
    "colab_type": "text",
    "id": "6tqZ3l9THj5W"
   },
   "source": [
    "### Interactive Python IPython"
   ]
  },
  {
   "cell_type": "markdown",
   "metadata": {
    "colab_type": "text",
    "id": "1qYp0OsBHj5X"
   },
   "source": [
    "### Putting It All Together"
   ]
  },
  {
   "cell_type": "code",
   "execution_count": null,
   "metadata": {
    "colab": {},
    "colab_type": "code",
    "id": "9bsT1Q2qHj5Z"
   },
   "outputs": [],
   "source": []
  }
 ],
 "metadata": {
  "colab": {
   "name": "cee_workshop_intro_to_python.ipynb",
   "provenance": [],
   "version": "0.3.2"
  },
  "kernelspec": {
   "display_name": "Python 3",
   "language": "python",
   "name": "python3"
  },
  "language_info": {
   "codemirror_mode": {
    "name": "ipython",
    "version": 3
   },
   "file_extension": ".py",
   "mimetype": "text/x-python",
   "name": "python",
   "nbconvert_exporter": "python",
   "pygments_lexer": "ipython3",
   "version": "3.4.9"
  }
 },
 "nbformat": 4,
 "nbformat_minor": 1
}
