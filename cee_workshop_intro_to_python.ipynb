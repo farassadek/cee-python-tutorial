{
 "cells": [
  {
   "cell_type": "markdown",
   "metadata": {},
   "source": [
    "# <img style=\"float: left; padding-right: 10px;\" src=\"SEAS_Logo.png\"> CEE Computing in Engineering Education \n",
    "## A Very Short Introduction to Python\n",
    "\n",
    "\n",
    "**Winter 2019**<br>\n",
    "**Author:** Faras Sadek"
   ]
  },
  {
   "cell_type": "markdown",
   "metadata": {},
   "source": [
    "### What is Python?\n",
    "Python is a simple, high-level dynamic and straightforward object-oriented programming language. It’s designed to be easy to program without prepared code and easy to read. Python was created in the late 1980s. It wasn’t named after the Python snake but after Monty Python. However, Python is not a comedy group but simply a programming language created by a Dutch computer programmer Guido van Rossum who is a fan of Monty Python! Python is a great building block for learning both procedural and object-oriented programming concepts, and is an ideal language for data analysis. \n",
    "\n",
    "This tutorial provides a hands-on learning with several real-world programming examples."
   ]
  },
  {
   "cell_type": "markdown",
   "metadata": {},
   "source": [
    "### Why Python\n",
    "- Python is open source software.\n",
    "- Python is Object oriented and modular\n",
    "- Python is considered as a \"glue language\" because of its ability to connect libraries and programs that are implemented in other languages.\n",
    "- Python is a general-purpose language as it strong Framework support used for writing software in a wide variety of application domains from video games to big data analytics.\n",
    "- Python is dynamic where a variable is simply a value bound to a name only versus type.\n",
    "- Python is an interpreted language, which means bits of code can be executed in a running program rather than compiling the complete program\n",
    "- Python is easy to a human readable as it’s closer to English language. Python also uses indentation to give structure to the code, which makes it easy for both humans and computers to read.\n",
    "- Python supports introspection, which is very helpful during debugging complex algorithms."
   ]
  },
  {
   "cell_type": "markdown",
   "metadata": {},
   "source": [
    "### Who is Python player?\n",
    "The fact that Python is easy to use for general tasks and is free makes it the best option for education. Python is valuable for Scientists and Engineers for data visualization and share algorithms.Since Python is a general purpose language and is a cross-platform, business firms tend to use Python to build professional applications with ease."
   ]
  },
  {
   "cell_type": "markdown",
   "metadata": {},
   "source": [
    "### Basic Python script and program\n",
    "#### 1) input and output\n",
    "By using the input function, we can easily write instructions that will prompt the user to enter data and then incorporate that data into further processing or print the result based on the string that is provided."
   ]
  },
  {
   "cell_type": "code",
   "execution_count": null,
   "metadata": {},
   "outputs": [],
   "source": [
    "# print the \"hello world\" text.\n",
    "print(\"Hello World\")\n",
    " \n",
    "# print hello world text from a variable.\n",
    "ht = \"Hello World\"\n",
    "print (ht)\n",
    " \n",
    "# input a text into a variable and print it.\n",
    "msg = input(\"Enter your message and then press <enter>: \")\n",
    "print (\"my msg is \" , msg)"
   ]
  },
  {
   "cell_type": "markdown",
   "metadata": {},
   "source": [
    "#### 2) If statements and conditions\n",
    "In conditions, we can use the “if “ statement, which is usually coupled with variables to produce more dynamic content. When the condition is satisfied, it activates the rest of the code. Similar to other languages, the “if” statement is accompanied with “else if” and “else”. However, In Python, the “else if” is represented as “elif”. "
   ]
  },
  {
   "cell_type": "code",
   "execution_count": null,
   "metadata": {},
   "outputs": [],
   "source": [
    "h = int(input(\"What is your height in inches?\"))\n",
    "if h > 68:\n",
    "    print ('You are taller than the average!')\n",
    "elif h == 68:\n",
    "    print ('You are average')\n",
    "else:\n",
    "    print ('You are shorter than the average')"
   ]
  },
  {
   "cell_type": "markdown",
   "metadata": {},
   "source": [
    "#### 3) Loops\n",
    "* `For` : loops allows you to loop through some code for a certain number of times.\n",
    "\n",
    "* `While`: loops allows you to have a condition followed by some statements and then increment the variable in the condition."
   ]
  },
  {
   "cell_type": "code",
   "execution_count": null,
   "metadata": {},
   "outputs": [],
   "source": [
    "for i in range(0,10):\n",
    "    print (i)"
   ]
  },
  {
   "cell_type": "code",
   "execution_count": null,
   "metadata": {},
   "outputs": [],
   "source": [
    "n = 9\n",
    "i = 0\n",
    "while i <= n:\n",
    "   print (i)\n",
    "   i = i + 1"
   ]
  },
  {
   "cell_type": "code",
   "execution_count": null,
   "metadata": {},
   "outputs": [],
   "source": [
    "name = 'Mary'\n",
    "money = 30.0023\n",
    "print (f'Hello my name is {name} and I have ${money:2.3} in my pocket')"
   ]
  },
  {
   "cell_type": "markdown",
   "metadata": {},
   "source": [
    "#### 4) Data types\n",
    " \n",
    "Everything is an object\n",
    "- Integer\n",
    "- Float\n",
    "- Decimal\n",
    "- String\n",
    "- Boolean\n",
    "- Date"
   ]
  },
  {
   "cell_type": "code",
   "execution_count": null,
   "metadata": {},
   "outputs": [],
   "source": [
    "a=10\n",
    "type (a)"
   ]
  },
  {
   "cell_type": "code",
   "execution_count": null,
   "metadata": {},
   "outputs": [],
   "source": [
    "7/20\n",
    "type(7/20)"
   ]
  },
  {
   "cell_type": "code",
   "execution_count": null,
   "metadata": {},
   "outputs": [],
   "source": [
    "7.0/20\n",
    "type (7.0/20)"
   ]
  },
  {
   "cell_type": "code",
   "execution_count": null,
   "metadata": {},
   "outputs": [],
   "source": [
    "a=7.0/20\n",
    "a + 0.1"
   ]
  },
  {
   "cell_type": "code",
   "execution_count": null,
   "metadata": {},
   "outputs": [],
   "source": [
    "(3 == 4)"
   ]
  },
  {
   "cell_type": "code",
   "execution_count": null,
   "metadata": {},
   "outputs": [],
   "source": [
    "# // is integer division\n",
    "1/2, 1//2, 1.0/2.0, 3*3.2, 24%4, 3**2"
   ]
  },
  {
   "cell_type": "code",
   "execution_count": null,
   "metadata": {
    "scrolled": true
   },
   "outputs": [],
   "source": [
    "s = \"simple python tutorial\"\n",
    "print (s.split())\n",
    "print(s.capitalize())\n",
    "print (s.find(\"python\"))\n",
    "print (s.replace(\" \", \"/\"))\n",
    "print (s)"
   ]
  },
  {
   "cell_type": "code",
   "execution_count": null,
   "metadata": {},
   "outputs": [],
   "source": [
    "from datetime import datetime\n",
    "datetime.now()"
   ]
  },
  {
   "cell_type": "markdown",
   "metadata": {},
   "source": [
    "hink of a variable as a label for a value, not a box in which you put the value\n",
    "\n",
    "(image taken from Fluent Python by Luciano Ramalho)"
   ]
  },
  {
   "cell_type": "markdown",
   "metadata": {},
   "source": [
    "#### 5) List, tuple and dictionary\n",
    "Python’s basic data structure is the sequence. Each element of a sequence is assigned an index that starts with **zero**. In this section we will be showing you the most common types of sequences in Python:\n",
    "\n",
    "- A list can be represented as a comma-separated values (items) between square brackets. These items in a list need not be of the same type.\n",
    "\n",
    "- A tuple is a sequence of immutable Python objects that can be represented by a different comma-separated values, and optionally between parentheses.\n",
    "\n",
    "Differences between tuples and lists:\n",
    "Tuples cannot be changed while lists can be changed\n",
    "\n",
    "Tuples use parentheses, whereas lists use square brackets\n",
    "\n",
    "- A dictionary is another useful data type built into Python, which consists of a series of key -> value mappings. Keys are immutable data type such as strings, numbers, or tuples and should be unique within a dictionary while values may not be and can be of any type. Each key is separated from its value by a colon (:), the items are separated by commas (,) the whole statement is enclosed in curly braces {}."
   ]
  },
  {
   "cell_type": "code",
   "execution_count": null,
   "metadata": {},
   "outputs": [],
   "source": [
    "# List Example\n",
    "list1 = [5,2,10,48,32,16,49,10,11,32]\n",
    "print(len(list1))\n",
    "print (list1[4])\n",
    "list1[4] = 99\n",
    "print (list1[4])\n",
    "\n",
    "# List comprehension \n",
    "\n",
    "print (list1[1:])\n",
    "print (list1[:1])\n",
    "print (list1[:-1])\n",
    "\n",
    "print (list1[1:3])\n",
    "print (list1[1:-3])\n",
    "\n",
    "print (list1[-4:])\n",
    "print (list1[-4:-2])"
   ]
  },
  {
   "cell_type": "code",
   "execution_count": null,
   "metadata": {},
   "outputs": [],
   "source": [
    "# Tuple Example\n",
    "tuple1 = (1,2,3,4)\n",
    "print (tuple1[2])\n",
    "tuple[2] = 99\n",
    "print (tuple1[2])"
   ]
  },
  {
   "cell_type": "code",
   "execution_count": null,
   "metadata": {},
   "outputs": [],
   "source": [
    " # Dictionary Example\n",
    "person = { 'name':'Tom', 'age':'45' }\n",
    "print(person)\n",
    "del person['name']\n",
    "print(person) "
   ]
  },
  {
   "cell_type": "markdown",
   "metadata": {},
   "source": [
    "#### 6) Functions\n",
    "Functions are user-defined functions which and can be reusable in the code which is used to perform a single, related action.\n",
    "Functions in Python are defined by using the keyword def and the function name."
   ]
  },
  {
   "cell_type": "code",
   "execution_count": null,
   "metadata": {},
   "outputs": [],
   "source": [
    "#!/usr/bin/env python\n",
    " \n",
    "def multipytwonumbers(a,b):\n",
    "    value = (a * b)\n",
    "    return value\n",
    " \n",
    "list1 = [5,2,10,48,32,16,49,10,11,32]\n",
    "result = multipytwonumbers(list1[3],list1[5])\n",
    "print(result)\n",
    " "
   ]
  },
  {
   "cell_type": "markdown",
   "metadata": {},
   "source": [
    "#### 8) Files\n",
    "Essential part of programming is being able to read and write from files. Python as other languages enables you to read and write to files in a very easy steps. "
   ]
  },
  {
   "cell_type": "markdown",
   "metadata": {},
   "source": [
    "**1) Write**"
   ]
  },
  {
   "cell_type": "code",
   "execution_count": null,
   "metadata": {},
   "outputs": [],
   "source": [
    "# Save the dictionary you made above into a json file\n",
    "# your code here\n",
    "import json\n",
    "\n",
    "with open(\"starinfo.json\",\"w\") as fd:\n",
    "    json.dump(person, fd)\n",
    "del person"
   ]
  },
  {
   "cell_type": "markdown",
   "metadata": {},
   "source": [
    "**2) Read**"
   ]
  },
  {
   "cell_type": "code",
   "execution_count": null,
   "metadata": {},
   "outputs": [],
   "source": [
    "# read it from the json file\n",
    "with open(\"starinfo.json\", \"r\") as fd:\n",
    "    my_person = json.load(fd)"
   ]
  },
  {
   "cell_type": "markdown",
   "metadata": {},
   "source": [
    "**3) Test**"
   ]
  },
  {
   "cell_type": "code",
   "execution_count": null,
   "metadata": {},
   "outputs": [],
   "source": [
    " my_person"
   ]
  },
  {
   "cell_type": "markdown",
   "metadata": {},
   "source": [
    "## Putting It All Together"
   ]
  },
  {
   "cell_type": "markdown",
   "metadata": {},
   "source": [
    "### Exercise 1\n",
    "Fix the code below to check for giants, dwarfs, and invalid input. Make your own definition of the attributes."
   ]
  },
  {
   "cell_type": "code",
   "execution_count": null,
   "metadata": {},
   "outputs": [],
   "source": [
    "h = int(input(\"What is your height in inches?\"))\n",
    "if h > 68:\n",
    "    print ('You are taller than the average!')\n",
    "elif h == 68:\n",
    "    print ('You are average')\n",
    "else:\n",
    "    print ('You are shorter than the average')"
   ]
  },
  {
   "cell_type": "markdown",
   "metadata": {},
   "source": [
    "### Exercise 2\n",
    "Change the code below capitalize all three words not just the first one"
   ]
  },
  {
   "cell_type": "code",
   "execution_count": null,
   "metadata": {},
   "outputs": [],
   "source": [
    "s = \"simple python tutorial\"\n",
    "print (s.split())\n",
    "print(s.capitalize())"
   ]
  },
  {
   "cell_type": "code",
   "execution_count": null,
   "metadata": {},
   "outputs": [],
   "source": [
    "# your code here\n",
    "print ([s.split()[i].capitalize() for i in range(len(s.split()))])"
   ]
  },
  {
   "cell_type": "markdown",
   "metadata": {},
   "source": [
    "### Exercise 3\n",
    "You have a list of numbers : 1, 4, 9, 16, 45, 36, 49, 54, 82, 100. Write code of Python that:\n",
    "- creates a variable with this list\n",
    "- takes this list and creates a new list with only the even elements of this list"
   ]
  },
  {
   "cell_type": "code",
   "execution_count": null,
   "metadata": {},
   "outputs": [],
   "source": [
    "# your code here\n",
    "my_list = [1, 4, 9, 16, 45, 36, 49, 54, 82, 100]\n",
    "my_even_list = [number for number in a if number % 2 == 0]\n",
    "\n",
    "print(my_even_list)"
   ]
  },
  {
   "cell_type": "markdown",
   "metadata": {},
   "source": [
    "### Exercise 4\n",
    "Create a function that takes an integer and a float as a input and creates a tuple called tup with the following seven objects:\n",
    "\n",
    "- The first element is the integer \n",
    "- The second element is the float \n",
    "- The third element is the sum of the first two elements\n",
    "- The fourth element is the difference of the first two elements\n",
    "- The fifth element is first element divided by the second element"
   ]
  },
  {
   "cell_type": "code",
   "execution_count": null,
   "metadata": {},
   "outputs": [],
   "source": [
    "# your code here\n",
    "def maketuple(a, b):\n",
    "    my_tuple = (a, b, a + b, a - b, a/a)\n",
    "    return my_tuple\n",
    "\n",
    "maketuple(1, 2.0)"
   ]
  }
 ],
 "metadata": {
  "kernelspec": {
   "display_name": "Python 3",
   "language": "python",
   "name": "python3"
  },
  "language_info": {
   "codemirror_mode": {
    "name": "ipython",
    "version": 3
   },
   "file_extension": ".py",
   "mimetype": "text/x-python",
   "name": "python",
   "nbconvert_exporter": "python",
   "pygments_lexer": "ipython3",
   "version": "3.4.9"
  }
 },
 "nbformat": 4,
 "nbformat_minor": 2
}
