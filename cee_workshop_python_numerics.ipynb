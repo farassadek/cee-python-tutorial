{
 "cells": [
  {
   "cell_type": "markdown",
   "metadata": {
    "colab_type": "text",
    "id": "FBv-sCdHNuBE"
   },
   "source": [
    "# Python and Numerics"
   ]
  },
  {
   "cell_type": "markdown",
   "metadata": {
    "colab_type": "text",
    "id": "uCWqGEkiNuBH"
   },
   "source": [
    "(A tutorial prepared by K. Indireshkumar of SEAS Computing.)"
   ]
  },
  {
   "cell_type": "markdown",
   "metadata": {
    "colab_type": "text",
    "id": "6L2VHgK5NuBI"
   },
   "source": [
    "## Python as a calculator##"
   ]
  },
  {
   "cell_type": "code",
   "execution_count": null,
   "metadata": {
    "colab": {
     "base_uri": "https://localhost:8080/",
     "height": 35
    },
    "colab_type": "code",
    "id": "TWY1iyWuNuBJ",
    "outputId": "8d046f22-dd81-4be5-a776-004c3bdb846b"
   },
   "outputs": [],
   "source": [
    "123*345"
   ]
  },
  {
   "cell_type": "markdown",
   "metadata": {
    "colab_type": "text",
    "id": "Ix-YgiYXNuBN"
   },
   "source": [
    "## Modules##\n",
    "\n",
    "* Much of the power of python is due to modules\n",
    "* Modules can be installed and imported easily\n",
    "* Should be careful about mixing name spaces\n",
    "* Some important modules: Numpy, Scipy, Matplotlib"
   ]
  },
  {
   "cell_type": "markdown",
   "metadata": {
    "colab_type": "text",
    "id": "JnDrSt_ANuBO"
   },
   "source": [
    "### Importing numpy###"
   ]
  },
  {
   "cell_type": "code",
   "execution_count": null,
   "metadata": {
    "colab": {
     "base_uri": "https://localhost:8080/",
     "height": 35
    },
    "colab_type": "code",
    "id": "3BlL9-tfNuBO",
    "outputId": "6a5dcd09-97f6-45cf-b868-09e187747096"
   },
   "outputs": [],
   "source": [
    "#In order to use numpy, start with importing the module\n",
    "from numpy import *\n",
    "sin(pi/2)"
   ]
  },
  {
   "cell_type": "code",
   "execution_count": null,
   "metadata": {
    "colab": {},
    "colab_type": "code",
    "collapsed": true,
    "id": "vmbpirLcNuBR"
   },
   "outputs": [],
   "source": [
    "#If the above complains about not finding numpy\n",
    "#the following command installs numpy (and scipy)\n",
    "#!pip install numpy scipy"
   ]
  },
  {
   "cell_type": "code",
   "execution_count": null,
   "metadata": {
    "colab": {
     "base_uri": "https://localhost:8080/",
     "height": 71
    },
    "colab_type": "code",
    "id": "-ADXjeH-NuBU",
    "outputId": "7d829b57-122f-4c49-bd8e-5981d3a8c1bb"
   },
   "outputs": [],
   "source": [
    "log10(-1) #What is the result?"
   ]
  },
  {
   "cell_type": "code",
   "execution_count": null,
   "metadata": {
    "colab": {},
    "colab_type": "code",
    "collapsed": true,
    "id": "za8fN4aqNuBX"
   },
   "outputs": [],
   "source": [
    "#To find out about log10, uncomment below and run cell\n",
    "#?log10"
   ]
  },
  {
   "cell_type": "code",
   "execution_count": null,
   "metadata": {
    "colab": {
     "base_uri": "https://localhost:8080/",
     "height": 35
    },
    "colab_type": "code",
    "id": "YPLPJNF9NuBa",
    "outputId": "7a8e31c2-1e33-484f-f9c0-22ff1241fbf0"
   },
   "outputs": [],
   "source": [
    "import scipy as spy\n",
    "x=spy.log10(-1)\n",
    "x"
   ]
  },
  {
   "cell_type": "markdown",
   "metadata": {
    "colab_type": "text",
    "id": "62vTvVa3NuBe"
   },
   "source": [
    "Why is Scipy result not 'NaN'? Work in the complex plane (see wikipedia article on \"Complex logarithm\"). Also note:"
   ]
  },
  {
   "cell_type": "code",
   "execution_count": null,
   "metadata": {
    "colab": {
     "base_uri": "https://localhost:8080/",
     "height": 35
    },
    "colab_type": "code",
    "id": "M3i37fO7NuBf",
    "outputId": "1c2e841a-8e02-41e1-e8db-bae5a81c25c7"
   },
   "outputs": [],
   "source": [
    "pi/log(10) # Which pi and log are being used: from numpy or scipy?"
   ]
  },
  {
   "cell_type": "code",
   "execution_count": null,
   "metadata": {
    "colab": {
     "base_uri": "https://localhost:8080/",
     "height": 35
    },
    "colab_type": "code",
    "id": "HbsmWDVmNuBi",
    "outputId": "1c04a992-168d-4c17-db4a-91b21dac19b5"
   },
   "outputs": [],
   "source": [
    "log10(10) # log to base 10"
   ]
  },
  {
   "cell_type": "code",
   "execution_count": null,
   "metadata": {
    "colab": {
     "base_uri": "https://localhost:8080/",
     "height": 35
    },
    "colab_type": "code",
    "id": "VxqkBUwZNuBn",
    "outputId": "78ebd0dd-1b14-417d-85bf-b57b4ddd1ff1"
   },
   "outputs": [],
   "source": [
    "#The above way of importing numpy is problematic if the same \n",
    "#variable name appears in different modules (name space conflict).\n",
    "# To get around that, a better option:\n",
    "import numpy\n",
    "numpy.sin(pi/2)"
   ]
  },
  {
   "cell_type": "code",
   "execution_count": null,
   "metadata": {
    "colab": {},
    "colab_type": "code",
    "collapsed": true,
    "id": "-VLDjdgNNuBp"
   },
   "outputs": [],
   "source": [
    "#dir(numpy) #Getting more info\n",
    "#help(numpy)"
   ]
  },
  {
   "cell_type": "code",
   "execution_count": null,
   "metadata": {
    "colab": {
     "base_uri": "https://localhost:8080/",
     "height": 35
    },
    "colab_type": "code",
    "id": "xgdAQACKNuBs",
    "outputId": "0fa28229-b26b-4adc-e577-9d3e24eb1053"
   },
   "outputs": [],
   "source": [
    "#The following is even better\n",
    "import numpy as np #This way, you can use a shorter name for the desired namespace\n",
    "np.sin(pi/2)"
   ]
  },
  {
   "cell_type": "markdown",
   "metadata": {
    "colab_type": "text",
    "id": "sqmuQdnLNuBx"
   },
   "source": [
    "### Python and Matlab-like functionality###"
   ]
  },
  {
   "cell_type": "code",
   "execution_count": null,
   "metadata": {
    "colab": {},
    "colab_type": "code",
    "collapsed": true,
    "id": "pKv7OqvxNuBy"
   },
   "outputs": [],
   "source": [
    "#!pip install matplotlib"
   ]
  },
  {
   "cell_type": "code",
   "execution_count": null,
   "metadata": {
    "colab": {},
    "colab_type": "code",
    "collapsed": true,
    "id": "hDbAAY18NuB0"
   },
   "outputs": [],
   "source": [
    "#%pylab inline\n",
    "# Note the Ipython magic command %\n",
    "%matplotlib inline "
   ]
  },
  {
   "cell_type": "markdown",
   "metadata": {
    "colab_type": "text",
    "id": "Kqf4yNJoNuB2"
   },
   "source": [
    "## Some numerical data types##\n",
    "\n",
    "Also see: https://docs.scipy.org/doc/numpy-1.13.0/user/basics.types.html"
   ]
  },
  {
   "cell_type": "code",
   "execution_count": null,
   "metadata": {
    "colab": {
     "base_uri": "https://localhost:8080/",
     "height": 35
    },
    "colab_type": "code",
    "id": "JIrM42t5NuB3",
    "outputId": "ab453dca-1a7c-47d6-f8ef-5695bc42efe7"
   },
   "outputs": [],
   "source": [
    "2*16  # data type integer"
   ]
  },
  {
   "cell_type": "code",
   "execution_count": null,
   "metadata": {
    "colab": {
     "base_uri": "https://localhost:8080/",
     "height": 35
    },
    "colab_type": "code",
    "id": "QgcuyinkNuB6",
    "outputId": "b6090be9-671d-4789-d30f-d57ac533954d"
   },
   "outputs": [],
   "source": [
    "a=2\n",
    "b=16\n",
    "print(a*b, b/a, a/b) # floating point result (python 3)"
   ]
  },
  {
   "cell_type": "code",
   "execution_count": null,
   "metadata": {
    "colab": {
     "base_uri": "https://localhost:8080/",
     "height": 35
    },
    "colab_type": "code",
    "id": "p-Em8j9FNuB_",
    "outputId": "a0a86da1-a4fc-42ca-beb5-735890eb6728"
   },
   "outputs": [],
   "source": [
    "print(a*b, b//a, a//b) # integer divison "
   ]
  },
  {
   "cell_type": "code",
   "execution_count": null,
   "metadata": {
    "colab": {
     "base_uri": "https://localhost:8080/",
     "height": 35
    },
    "colab_type": "code",
    "id": "fMIGYXAXNuCB",
    "outputId": "06573a3d-c5ed-473f-f78f-95b178c72128"
   },
   "outputs": [],
   "source": [
    "24542*2121212123456789816254827 # Long integer! No size limit other than those imposed by memory."
   ]
  },
  {
   "cell_type": "code",
   "execution_count": null,
   "metadata": {
    "colab": {
     "base_uri": "https://localhost:8080/",
     "height": 35
    },
    "colab_type": "code",
    "id": "gR_x6MDiNuCC",
    "outputId": "659a0ba8-3092-47d2-e46e-199152703108"
   },
   "outputs": [],
   "source": [
    "import sys\n",
    "sys.maxsize # Determine the maximum size of an integer"
   ]
  },
  {
   "cell_type": "code",
   "execution_count": null,
   "metadata": {
    "colab": {
     "base_uri": "https://localhost:8080/",
     "height": 35
    },
    "colab_type": "code",
    "id": "BFubfRnoNuCG",
    "outputId": "5c51967a-6462-4d37-c0a3-3b6d15725bb3"
   },
   "outputs": [],
   "source": [
    "24542.0*2121212123456789816254827 # Data type float"
   ]
  },
  {
   "cell_type": "code",
   "execution_count": null,
   "metadata": {
    "colab": {
     "base_uri": "https://localhost:8080/",
     "height": 35
    },
    "colab_type": "code",
    "id": "eTr5K-WdNuCJ",
    "outputId": "92f0e36c-b140-49a1-a936-ffa5066828c3"
   },
   "outputs": [],
   "source": [
    "a=2.0 # float\n",
    "b=16  # integer\n",
    "print(a*b, b/a, a/b) #When integers are mixed with floats, they are converted to floats"
   ]
  },
  {
   "cell_type": "code",
   "execution_count": null,
   "metadata": {
    "colab": {
     "base_uri": "https://localhost:8080/",
     "height": 35
    },
    "colab_type": "code",
    "id": "x3MKjAkGNuCM",
    "outputId": "387c947f-d761-424a-c7fd-902578a47ad8"
   },
   "outputs": [],
   "source": [
    "#https://docs.scipy.org/doc/numpy-dev/user/basics.types.html\n",
    "#sys.float_info\n",
    "#np.finfo(np.float128)\n",
    "sys.float_info.max"
   ]
  },
  {
   "cell_type": "markdown",
   "metadata": {
    "colab_type": "text",
    "id": "j99JE3jUNuCP"
   },
   "source": [
    "## Precision in python\n",
    "\n",
    "* https://docs.python.org/2/tutorial/floatingpoint.html\n",
    "\n",
    "* https://docs.python.org/2/library/decimal.html\n",
    "\n",
    "* https://anh.cs.luc.edu/python/hands-on/3.1/handsonHtml/float.html"
   ]
  },
  {
   "cell_type": "markdown",
   "metadata": {
    "colab_type": "text",
    "id": "vemVTJlFNuCP"
   },
   "source": [
    "## Complex numbers"
   ]
  },
  {
   "cell_type": "code",
   "execution_count": null,
   "metadata": {
    "colab": {
     "base_uri": "https://localhost:8080/",
     "height": 35
    },
    "colab_type": "code",
    "id": "kXV7_HjvNuCQ",
    "outputId": "4b74c627-6a65-4bbf-bf31-fd059fdf5032"
   },
   "outputs": [],
   "source": [
    "#complex number -- define, find conjugate, and absolute values\n",
    "#define a complex number 5+6i\n",
    "x=5; y=6\n",
    "z=x+y*1j #Python uses j instead of i for imaginary part\n",
    "w=complex(5,6)\n",
    "z,w,conj(z),abs(z)"
   ]
  },
  {
   "cell_type": "markdown",
   "metadata": {
    "colab_type": "text",
    "id": "AEOE6niCNuCR"
   },
   "source": [
    "## Arrays##\n",
    "\n",
    "Arrays can be created in different ways"
   ]
  },
  {
   "cell_type": "code",
   "execution_count": null,
   "metadata": {
    "colab": {
     "base_uri": "https://localhost:8080/",
     "height": 35
    },
    "colab_type": "code",
    "id": "VW9xi5liNuCT",
    "outputId": "b560ba34-08ff-4446-bfcd-bd76e8f2ec88"
   },
   "outputs": [],
   "source": [
    "#creating an array by explicitly putting in the entries\n",
    "ar1=array([2,3,4,5,1,2,3,4,4,3,2,1])\n",
    "print(ar1)"
   ]
  },
  {
   "cell_type": "code",
   "execution_count": null,
   "metadata": {
    "colab": {
     "base_uri": "https://localhost:8080/",
     "height": 35
    },
    "colab_type": "code",
    "id": "02lG1lqBNuCU",
    "outputId": "7548e2c3-6854-450f-9eaf-f7f5cd12b918"
   },
   "outputs": [],
   "source": [
    "#creating an array with linspace\n",
    "X = linspace(0, 1, 11)\n",
    "print(X)"
   ]
  },
  {
   "cell_type": "code",
   "execution_count": null,
   "metadata": {
    "colab": {
     "base_uri": "https://localhost:8080/",
     "height": 35
    },
    "colab_type": "code",
    "id": "iCKQ9Fj-NuCX",
    "outputId": "30839617-b36f-41f9-e4b7-081fe433a3a1"
   },
   "outputs": [],
   "source": [
    "#creating an array with linspace\n",
    "X = linspace(0, 1, 10, endpoint=False)\n",
    "print(X)"
   ]
  },
  {
   "cell_type": "code",
   "execution_count": null,
   "metadata": {
    "colab": {
     "base_uri": "https://localhost:8080/",
     "height": 53
    },
    "colab_type": "code",
    "id": "wKQ2uHUbNuCY",
    "outputId": "c3084f28-824b-420b-bf96-fe8ffa9fdc74"
   },
   "outputs": [],
   "source": [
    "#array with arange\n",
    "time_step = 0.2\n",
    "time_vec=arange(0,5,time_step)\n",
    "time_vec"
   ]
  },
  {
   "cell_type": "code",
   "execution_count": null,
   "metadata": {
    "colab": {
     "base_uri": "https://localhost:8080/",
     "height": 35
    },
    "colab_type": "code",
    "id": "m_xvqPlENuCa",
    "outputId": "b07bccf6-dfbd-4a67-8bdd-c33df671cb30"
   },
   "outputs": [],
   "source": [
    "type(time_vec)\n",
    "#shape(time_vec)\n",
    "#time_vec.shape"
   ]
  },
  {
   "cell_type": "code",
   "execution_count": null,
   "metadata": {
    "colab": {
     "base_uri": "https://localhost:8080/",
     "height": 71
    },
    "colab_type": "code",
    "id": "eQxib2lZNuCc",
    "outputId": "a94fc3ab-6b49-43f1-b823-1f83576c5c62"
   },
   "outputs": [],
   "source": [
    "ar1.reshape(3,4) #reshape 1-D array into 3 X 4 array"
   ]
  },
  {
   "cell_type": "markdown",
   "metadata": {
    "colab_type": "text",
    "id": "0oZEKjPBNuCf"
   },
   "source": [
    "This is 2D array which appears to be a list of lists. Why don't we just work with lists? Primary reasons, speed and efficiency.\n",
    "\n",
    "* Lists are very general; they can hold heterogeneous quantities. Operations such as matrix operations and dot products are not supported in lists. \n",
    "* Numpy arrays and its derived entities (such as matrix) are very efficient. These are statically typed as opposed to dynamic typing normally used in python. Because of this, routines involving arrays can be implemented in fortran and c.\n",
    "* Arrays are memory efficient."
   ]
  },
  {
   "cell_type": "code",
   "execution_count": null,
   "metadata": {
    "colab": {
     "base_uri": "https://localhost:8080/",
     "height": 89
    },
    "colab_type": "code",
    "id": "EiK_OPzSNuCf",
    "outputId": "21fab019-c1a4-4004-8fbf-61e2a2456c36"
   },
   "outputs": [],
   "source": [
    "ar1=array([float(i) for i in range (15)])  # Create arrays via list comprehension\n",
    "ar2=array([float(i) for i in range (3,18)])\n",
    "ar1,ar2"
   ]
  },
  {
   "cell_type": "code",
   "execution_count": null,
   "metadata": {
    "colab": {
     "base_uri": "https://localhost:8080/",
     "height": 71
    },
    "colab_type": "code",
    "id": "w02rESeqNuCh",
    "outputId": "f7a84019-b4b2-4ed2-fa79-11a4bb597261"
   },
   "outputs": [],
   "source": [
    "#elementwise operations (uncomment below and run cell to see results)\n",
    "#ar2-ar1\n",
    "#ar2*ar1\n",
    "ar1/ar2\n",
    "# array slicing; syntax ar1[start:end:step]\n",
    "#ar1[0.:8.:2]\n",
    "#ar1[::2]"
   ]
  },
  {
   "cell_type": "code",
   "execution_count": null,
   "metadata": {
    "colab": {
     "base_uri": "https://localhost:8080/",
     "height": 89
    },
    "colab_type": "code",
    "id": "CKf5uqZPNuCi",
    "outputId": "4518efe4-f9b3-4438-e767-9cb39d3f5d9d"
   },
   "outputs": [],
   "source": [
    "np.random.seed(12345)\n",
    "a=random.rand(4,4) #rand samples from a uniform distribution\n",
    "a"
   ]
  },
  {
   "cell_type": "code",
   "execution_count": null,
   "metadata": {
    "colab": {
     "base_uri": "https://localhost:8080/",
     "height": 89
    },
    "colab_type": "code",
    "id": "cAqkcTDSNuCk",
    "outputId": "7d075510-b460-47f9-f95d-855e257bd180"
   },
   "outputs": [],
   "source": [
    "print(a*a)"
   ]
  },
  {
   "cell_type": "code",
   "execution_count": null,
   "metadata": {
    "colab": {
     "base_uri": "https://localhost:8080/",
     "height": 190
    },
    "colab_type": "code",
    "id": "7oRtJkHINuCn",
    "outputId": "9b8956fc-0273-4272-dc44-215eda4b8697"
   },
   "outputs": [],
   "source": [
    "b=random.rand(4,3)\n",
    "print(a*b)"
   ]
  },
  {
   "cell_type": "code",
   "execution_count": null,
   "metadata": {
    "colab": {
     "base_uri": "https://localhost:8080/",
     "height": 35
    },
    "colab_type": "code",
    "id": "8QsEWNPdNuCo",
    "outputId": "9d3f986c-72d4-4908-97e7-112f10a79881"
   },
   "outputs": [],
   "source": [
    "type(a),type(b)"
   ]
  },
  {
   "cell_type": "markdown",
   "metadata": {
    "colab_type": "text",
    "id": "v9LnAIbRNuCq"
   },
   "source": [
    "## Matrices"
   ]
  },
  {
   "cell_type": "code",
   "execution_count": null,
   "metadata": {
    "colab": {
     "base_uri": "https://localhost:8080/",
     "height": 89
    },
    "colab_type": "code",
    "id": "F_cyE9WbNuCq",
    "outputId": "73278528-c3f3-462d-c5e3-35829de75f3b"
   },
   "outputs": [],
   "source": [
    "#convert to matrix\n",
    "am=mat(a)\n",
    "#am.shape, am.size\n",
    "am"
   ]
  },
  {
   "cell_type": "markdown",
   "metadata": {
    "colab_type": "text",
    "id": "KhZ5NFAZNuCt"
   },
   "source": [
    "### Wait a minute! matrix and array look the same other than the words \"matrix\" and \"array\".\n",
    "\n",
    "Well, not quite! Mathematical operations such as multiply have differ meanings. Matrices behave like (linear algebra) matrices. Also, matrices are strictly two dimensional. Arrays can be multidimensional."
   ]
  },
  {
   "cell_type": "code",
   "execution_count": null,
   "metadata": {
    "colab": {
     "base_uri": "https://localhost:8080/",
     "height": 89
    },
    "colab_type": "code",
    "id": "zmYk10nhNuCt",
    "outputId": "c6d26bd4-f6a6-4478-f912-018b58b4a2ff"
   },
   "outputs": [],
   "source": [
    "am*am"
   ]
  },
  {
   "cell_type": "code",
   "execution_count": null,
   "metadata": {
    "colab": {
     "base_uri": "https://localhost:8080/",
     "height": 89
    },
    "colab_type": "code",
    "id": "PY4ZpM4aNuCw",
    "outputId": "aa24985e-dbf7-41e6-8709-8a64c608d455"
   },
   "outputs": [],
   "source": [
    "bmat=mat(b)\n",
    "am*bmat"
   ]
  },
  {
   "cell_type": "code",
   "execution_count": null,
   "metadata": {
    "colab": {
     "base_uri": "https://localhost:8080/",
     "height": 89
    },
    "colab_type": "code",
    "id": "OsRaYiZKNuCz",
    "outputId": "55b8a074-3d15-49ec-87bd-aa066e802e19"
   },
   "outputs": [],
   "source": [
    "#obtain the transpose\n",
    "#bt=am.T\n",
    "#print bt\n",
    "#obtain inverse\n",
    "bm=am.I\n",
    "bm"
   ]
  },
  {
   "cell_type": "code",
   "execution_count": null,
   "metadata": {
    "colab": {
     "base_uri": "https://localhost:8080/",
     "height": 161
    },
    "colab_type": "code",
    "id": "34KWpmqmNuC0",
    "outputId": "7587a923-eab7-41b3-cda2-6b90b9864d30"
   },
   "outputs": [],
   "source": [
    "#compute product of matrix and its inverse\n",
    "cm=am*bm\n",
    "#Other than the diagonal (equal to 1), all elements are \"zero\", hence identity matrix.\n",
    "cm"
   ]
  },
  {
   "cell_type": "code",
   "execution_count": null,
   "metadata": {
    "colab": {
     "base_uri": "https://localhost:8080/",
     "height": 89
    },
    "colab_type": "code",
    "id": "fqON76gBNuC3",
    "outputId": "ce5b4d35-601d-4fdd-e676-e5943bef7711"
   },
   "outputs": [],
   "source": [
    "cmi=mat(eye(4,4)) # Identity matrix\n",
    "cmi"
   ]
  },
  {
   "cell_type": "code",
   "execution_count": null,
   "metadata": {
    "colab": {
     "base_uri": "https://localhost:8080/",
     "height": 161
    },
    "colab_type": "code",
    "id": "iNpn01ZVNuC5",
    "outputId": "82b50a9f-956a-46c8-dd2e-9fc989355946"
   },
   "outputs": [],
   "source": [
    "cmi-cm # difference between the inverse matrix (cmi) and identity matrix of same shape (should be zero or close to zero)"
   ]
  },
  {
   "cell_type": "markdown",
   "metadata": {
    "colab_type": "text",
    "id": "SRz6cgxBNuC7"
   },
   "source": [
    "### Determinant of a Matrix###"
   ]
  },
  {
   "cell_type": "markdown",
   "metadata": {
    "colab_type": "text",
    "id": "XWEVUNrxNuC7"
   },
   "source": [
    "Linear algebra routines\n",
    "### https://docs.scipy.org/doc/numpy-1.13.0/reference/routines.linalg.html"
   ]
  },
  {
   "cell_type": "code",
   "execution_count": null,
   "metadata": {
    "colab": {},
    "colab_type": "code",
    "collapsed": true,
    "id": "q1tWfM77NuC7"
   },
   "outputs": [],
   "source": [
    "from scipy import linalg"
   ]
  },
  {
   "cell_type": "code",
   "execution_count": null,
   "metadata": {
    "colab": {
     "base_uri": "https://localhost:8080/",
     "height": 53
    },
    "colab_type": "code",
    "id": "Dcw3G4ajNuC-",
    "outputId": "33e54427-7f38-4ddb-c01e-1b6b1481a65a"
   },
   "outputs": [],
   "source": [
    "M=matrix([[10,9],[9,10]])\n",
    "M\n"
   ]
  },
  {
   "cell_type": "code",
   "execution_count": null,
   "metadata": {
    "colab": {
     "base_uri": "https://localhost:8080/",
     "height": 35
    },
    "colab_type": "code",
    "id": "wJlVTafSNuDA",
    "outputId": "15b6eec1-6113-43bf-fc8f-3f1f19f886ef"
   },
   "outputs": [],
   "source": [
    "#np.linalg.det(M)\n",
    "linalg.det(M)\n",
    "#with float, only 16 significant digits"
   ]
  },
  {
   "cell_type": "markdown",
   "metadata": {
    "colab_type": "text",
    "id": "b_MrGBmXNuDD"
   },
   "source": [
    "### Linear Equations"
   ]
  },
  {
   "cell_type": "code",
   "execution_count": null,
   "metadata": {
    "colab": {
     "base_uri": "https://localhost:8080/",
     "height": 71
    },
    "colab_type": "code",
    "id": "rp7DjavUNuDD",
    "outputId": "0aafe6c5-e0c5-4fc1-af05-c4b141ad9a95"
   },
   "outputs": [],
   "source": [
    "A=mat([[3,5,2],[4,-3,-2],[1,-1,2]])\n",
    "A"
   ]
  },
  {
   "cell_type": "code",
   "execution_count": null,
   "metadata": {
    "colab": {
     "base_uri": "https://localhost:8080/",
     "height": 71
    },
    "colab_type": "code",
    "id": "3nlomB9TNuDE",
    "outputId": "a247e38e-04d6-400c-d992-4e297bda5f2d"
   },
   "outputs": [],
   "source": [
    "### The Equations are\n",
    "###       3x+5y+2z=11\n",
    "###       4x-3y-2z=9\n",
    "###        x- y+2z=-11\n",
    "###This can be written in the form A*x=B\n",
    "A=mat([[3,5,2],[4,-3,-2],[1,-1,2]])\n",
    "B=mat([[11],[9],[-11]])\n",
    "# Solution\n",
    "x = linalg.solve(A, B)\n",
    "x"
   ]
  },
  {
   "cell_type": "markdown",
   "metadata": {
    "colab_type": "text",
    "id": "ujav4IpWNuDJ"
   },
   "source": [
    "## Eigenvalues and Eigenvectors"
   ]
  },
  {
   "cell_type": "code",
   "execution_count": null,
   "metadata": {
    "colab": {
     "base_uri": "https://localhost:8080/",
     "height": 71
    },
    "colab_type": "code",
    "id": "Z8cCh91MNuDL",
    "outputId": "61aa139c-24be-4acf-c8a6-706c5845ffd1"
   },
   "outputs": [],
   "source": [
    "m=np.diag((1, 2, 3))\n",
    "m"
   ]
  },
  {
   "cell_type": "code",
   "execution_count": null,
   "metadata": {
    "colab": {
     "base_uri": "https://localhost:8080/",
     "height": 35
    },
    "colab_type": "code",
    "id": "B8JaiHzyNuDM",
    "outputId": "8841316b-3da2-476f-c35e-e4eb289b4a8f"
   },
   "outputs": [],
   "source": [
    "w, v = linalg.eig(m)\n",
    "w # eigenvalues"
   ]
  },
  {
   "cell_type": "code",
   "execution_count": null,
   "metadata": {
    "colab": {
     "base_uri": "https://localhost:8080/",
     "height": 71
    },
    "colab_type": "code",
    "id": "fC7oxoXdNuDS",
    "outputId": "7282058d-8404-48be-9130-92c8b9bb64e1"
   },
   "outputs": [],
   "source": [
    "v # eigenvectors"
   ]
  },
  {
   "cell_type": "markdown",
   "metadata": {
    "colab_type": "text",
    "id": "nSLuCzSuNuDU"
   },
   "source": [
    "## Hermitian Matrix\n",
    "\n",
    "Square matrix that is equal to its conjugate transpose"
   ]
  },
  {
   "cell_type": "code",
   "execution_count": null,
   "metadata": {
    "colab": {
     "base_uri": "https://localhost:8080/",
     "height": 71
    },
    "colab_type": "code",
    "id": "fXObqukqNuDW",
    "outputId": "1ae45090-4626-4162-f388-fc1e232e7321"
   },
   "outputs": [],
   "source": [
    "h = np.array([[4, 2+3j, 5-3j], [2-3j, 5, 3+5j], [5+3j, 3-5j, 6]])\n",
    "h"
   ]
  },
  {
   "cell_type": "code",
   "execution_count": null,
   "metadata": {
    "colab": {
     "base_uri": "https://localhost:8080/",
     "height": 71
    },
    "colab_type": "code",
    "id": "cneP8c-PNuDY",
    "outputId": "eabe5295-d757-4b92-ade9-79e459505f5e"
   },
   "outputs": [],
   "source": [
    "h.conj().T # should be the same as h is Hermitian"
   ]
  },
  {
   "cell_type": "code",
   "execution_count": null,
   "metadata": {
    "colab": {
     "base_uri": "https://localhost:8080/",
     "height": 226
    },
    "colab_type": "code",
    "id": "zPEgHmh_NuDc",
    "outputId": "b97309ff-7e6f-4899-cdfd-d9a19424f5a2"
   },
   "outputs": [],
   "source": [
    "if h.conj().T == h:\n",
    "    print('Matrix h is Hermitian')\n",
    "else:\n",
    "    print('Matrix h is not Hermitian')"
   ]
  },
  {
   "cell_type": "code",
   "execution_count": null,
   "metadata": {
    "colab": {
     "base_uri": "https://localhost:8080/",
     "height": 35
    },
    "colab_type": "code",
    "id": "31y9iA0bNuDh",
    "outputId": "43f1a975-0e46-498c-e876-2532c05612e1"
   },
   "outputs": [],
   "source": [
    "(h.conj().T == h).all() # Make sure h is Hermitian"
   ]
  },
  {
   "cell_type": "code",
   "execution_count": null,
   "metadata": {
    "colab": {
     "base_uri": "https://localhost:8080/",
     "height": 53
    },
    "colab_type": "code",
    "id": "su-YKOk1NuDi",
    "outputId": "79db9536-cb34-4a35-b17d-2e280b4ed680"
   },
   "outputs": [],
   "source": [
    "#Eigenvalues and eigenvectors\n",
    "w, v = linalg.eig(h)\n",
    "w # eigenvalues are real!"
   ]
  },
  {
   "cell_type": "markdown",
   "metadata": {
    "colab_type": "text",
    "id": "h9S55wx4NuDn"
   },
   "source": [
    "# Plotting \n",
    "\n",
    "Plotting can be quite confusing for a beginner in python.\n",
    "\n",
    "* Matplotlib is the primary (predominantly 2D) plotting package.\n",
    "\n",
    "* mpl_toolkits.mplot3d provides some basic 3D plotting capabilities.\n",
    "\n",
    "* A separate package Mayavi provides interactive data visualization and 3D plotting.\n",
    "\n",
    "References:\n",
    "\n",
    "http://matplotlib.org/users/pyplot_tutorial.html\n",
    "\n",
    "https://scipy-lectures.github.io/intro/matplotlib/matplotlib.html#contour-plots\n",
    "\n",
    "http://nbviewer.ipython.org/github/jrjohansson/scientific-python-lectures/blob/master/Lecture-4-Matplotlib.ipynb\n",
    "\n",
    "3D plotting with Mayavi:\n",
    "\n",
    "http://scipy-lectures.github.io/advanced/3d_plotting/index.html"
   ]
  },
  {
   "cell_type": "code",
   "execution_count": null,
   "metadata": {
    "colab": {},
    "colab_type": "code",
    "collapsed": true,
    "id": "kB84dSCaNuDo"
   },
   "outputs": [],
   "source": [
    "##Simple way pylab (think Matlab)\n",
    "#from pylab import *\n",
    "#import matplotlib.pyplot as plt"
   ]
  },
  {
   "cell_type": "code",
   "execution_count": null,
   "metadata": {
    "colab": {},
    "colab_type": "code",
    "id": "E2kh2PhlNuDp"
   },
   "outputs": [],
   "source": [
    "from pylab import *\n",
    "#Note that the whole sequence is vectorized, i.e. all operations\n",
    "#are being carried out with vectors without resorting to for loops!\n",
    "#The vector X is created by using linspace (very useful)\n",
    "X = linspace(-pi, pi, 256, endpoint=True)\n",
    "C=cos(X)\n",
    "#C, S = cos(X), sin(X)\n",
    "#print C\n",
    "\n",
    "plot(X, C)\n",
    "#plot(X, S)\n",
    "xlabel('Angle (radian)')\n",
    "ylabel('Cosine function')\n",
    "title('A simple plot')\n",
    "\n",
    "#show()"
   ]
  },
  {
   "cell_type": "markdown",
   "metadata": {
    "colab_type": "text",
    "id": "S1ruRiuyNuDu"
   },
   "source": [
    "## Ordinary Differential Equations##\n",
    "\n",
    "The primary tool for ordinary differential equations is the \"odeint\" function from the scipy module."
   ]
  },
  {
   "cell_type": "code",
   "execution_count": null,
   "metadata": {
    "colab": {},
    "colab_type": "code",
    "collapsed": true,
    "id": "URNhWJdgNuDu"
   },
   "outputs": [],
   "source": [
    "from scipy.integrate import odeint\n",
    "#help(odeint)"
   ]
  },
  {
   "cell_type": "markdown",
   "metadata": {
    "colab_type": "text",
    "id": "2qhynobINuDv"
   },
   "source": [
    "### Simple first order ODE###"
   ]
  },
  {
   "cell_type": "markdown",
   "metadata": {
    "colab_type": "text",
    "id": "EeBPfIjANuDw"
   },
   "source": [
    "Let us first solve a simple ordinary differential equation:\n",
    "\n",
    "$\\displaystyle \\frac{dy}{dt} = \\alpha y$\n",
    "\n",
    "The solution is easy to calculate analytically ($t(0)=0$):\n",
    "\n",
    "$y = y(0)e^{\\alpha t}$\n",
    "\n",
    "We first define a function to return the RHS ($\\alpha y$) of the above ODE:"
   ]
  },
  {
   "cell_type": "code",
   "execution_count": null,
   "metadata": {
    "colab": {},
    "colab_type": "code",
    "collapsed": true,
    "id": "obnJ3zauNuDx"
   },
   "outputs": [],
   "source": [
    "def deriv(y, t, alpha):\n",
    "    #This function returns the derivative (RHS of) dy/dt = alpha*y\n",
    "    drv = alpha * y\n",
    "    return drv\n"
   ]
  },
  {
   "cell_type": "code",
   "execution_count": null,
   "metadata": {
    "colab": {},
    "colab_type": "code",
    "collapsed": true,
    "id": "HE_VH4shNuDy"
   },
   "outputs": [],
   "source": [
    "# Initial condition\n",
    "y0 = 100.0\n",
    "\n",
    "# Times at which the solution is to be computed.\n",
    "t = np.linspace(0, 1, 51)\n",
    "\n",
    "# Parameter value to use in `fun`.\n",
    "alpha = -2.5\n",
    "\n",
    "# Solve the equation.\n",
    "y = odeint(deriv, y0, t, args=(alpha,))"
   ]
  },
  {
   "cell_type": "code",
   "execution_count": null,
   "metadata": {
    "colab": {},
    "colab_type": "code",
    "id": "Jm2_wJ89NuD0"
   },
   "outputs": [],
   "source": [
    "plot(t, y[:,0])\n",
    "xlabel('t')\n",
    "ylabel('y')\n",
    "show()"
   ]
  },
  {
   "cell_type": "code",
   "execution_count": null,
   "metadata": {
    "colab": {},
    "colab_type": "code",
    "collapsed": true,
    "id": "fSCsrK_TNuD4"
   },
   "outputs": [],
   "source": [
    "y1=y0*exp(alpha*t)"
   ]
  },
  {
   "cell_type": "code",
   "execution_count": null,
   "metadata": {
    "colab": {},
    "colab_type": "code",
    "id": "oo9za-U_NuD5"
   },
   "outputs": [],
   "source": [
    "plot(t, y[:,0])\n",
    "plot(t, y1)\n",
    "xlabel('t')\n",
    "ylabel('y1')\n",
    "show()"
   ]
  },
  {
   "cell_type": "markdown",
   "metadata": {
    "colab_type": "text",
    "id": "f2ghi7FlNuD6"
   },
   "source": [
    "### Damped Harmonic Oscillator (second order ODE)###\n",
    "We look at a slightly more complicated ODE example. This example is self contained. However, it builds on the material from:\n",
    "\n",
    "https://nbviewer.jupyter.org/github/jrjohansson/scientific-python-lectures/blob/master/Lecture-3-Scipy.ipynb\n",
    "\n",
    "See Also:\n",
    "\n",
    "http://sam-dolan.staff.shef.ac.uk/mas212/notebooks/ODE_Example.html"
   ]
  },
  {
   "cell_type": "markdown",
   "metadata": {
    "colab_type": "text",
    "id": "rOB-CxOuNuD7"
   },
   "source": [
    "For a damped oscillator subject to an oscillating force, the equation of motion is:\n",
    "\n",
    "$\\displaystyle \\frac{d^2x}{dt^2} + \\zeta \\frac{dx}{dt} + \\omega^2_0 x = A\\cos(\\omega t)$\n",
    "\n",
    "where $x$, $\\omega_0$, and $\\zeta$ are the displacement, natural frequency and damping coefficient of the oscillator. The oscillator is also subject to an external driving force with amplitude $A$ and frequency $\\omega$. With $p = \\frac{dx}{dt}$, we have:\n",
    "\n",
    "$\\displaystyle \\frac{dp}{dt} = -\\zeta p - \\omega^2_0 x + A\\cos(\\omega t)$\n",
    "\n",
    "This is in a form needed for 'odeint'. Below, notice how we pass extra parameters via `args` to the `odeint` function:"
   ]
  },
  {
   "cell_type": "code",
   "execution_count": null,
   "metadata": {
    "colab": {},
    "colab_type": "code",
    "collapsed": true,
    "id": "yYcPITqDNuD7"
   },
   "outputs": [],
   "source": [
    "def dy(y, t, zeta, w0, A, w):\n",
    "    \"\"\"\n",
    "    The right-hand side of the damped oscillator ODE.\n",
    "    The oscillator is subject to an external force.\n",
    "    \"\"\"\n",
    "    x, p = y[0], y[1]\n",
    "      \n",
    "    dx = p\n",
    "    dp = -zeta*p - (w0**2) * x + A*cos(w*t)\n",
    "\n",
    "    return [dx, dp]"
   ]
  },
  {
   "cell_type": "code",
   "execution_count": null,
   "metadata": {
    "colab": {},
    "colab_type": "code",
    "id": "j4j7nl4XNuD9"
   },
   "outputs": [],
   "source": [
    "# Parameters [Natural frequency (w0), forcing frequency (w), force amplitude (A)]\n",
    "#[w0, w, A] = [3.0, 3.2, 1.0]  #(external forcing present; change to experiment)\n",
    "[w0, w, A] = [3.0, 0.0, 1.0]    #(no external forcing)\n",
    "zeta=0.0  #damping coefficient (change to experiment)\n",
    "\n",
    "# initial state: \n",
    "y0 = [0.0, 0.0]\n",
    "#y0 = [.5, -0.2]\n",
    "\n",
    "# time coodinate to solve the ODE for\n",
    "t = linspace(0, 100, 10000)\n",
    "\n",
    "# solve the ODE problem for three different values of the damping ratio\n",
    "# Note how we pass along the damping parameter (zeta) as part of argument list\n",
    "y1 = odeint(dy, y0, t, args=(zeta, w0, A, w)) # undamped\n",
    "\n",
    "\n",
    "# Plot\n",
    "fig, ax = subplots()\n",
    "#ax.plot(t, y1[:,0], 'k', label=\"undamped\", linewidth=0.25)\n",
    "ax.plot(t, y1[:,0],label=\"undamped\", linewidth=1.0)\n",
    "ax.legend();"
   ]
  },
  {
   "cell_type": "markdown",
   "metadata": {
    "colab_type": "text",
    "id": "jby_s0DtNuD-"
   },
   "source": [
    "# Additional topics (not covered in tutorial)"
   ]
  },
  {
   "cell_type": "markdown",
   "metadata": {},
   "source": [
    "## Advanced Plotting"
   ]
  },
  {
   "cell_type": "markdown",
   "metadata": {
    "colab_type": "text",
    "id": "w-ghllmnNuDk"
   },
   "source": [
    "### Meshgrid"
   ]
  },
  {
   "cell_type": "code",
   "execution_count": null,
   "metadata": {
    "colab": {},
    "colab_type": "code",
    "id": "H8ebHl9LNuDl"
   },
   "outputs": [],
   "source": [
    "#meshgrid is an advanced operation with relevance to 'vectorized' computations. \n",
    "#It is very helpful in plotting operations and in this context can be thought of as returning \n",
    "# a regularly spaced grid (eg. a rectangular grid in 2D). See the plotting examples below.\n",
    "n=5\n",
    "x = linspace(-1.4, 1.4, n)\n",
    "y = linspace(-2.0, 0.8, n)\n",
    "X, Y = meshgrid(x, y)\n",
    "X,Y"
   ]
  },
  {
   "cell_type": "markdown",
   "metadata": {},
   "source": [
    "### Contour Plot"
   ]
  },
  {
   "cell_type": "code",
   "execution_count": null,
   "metadata": {
    "colab": {},
    "colab_type": "code",
    "id": "drYPI6rnNuDr"
   },
   "outputs": [],
   "source": [
    "#Contour Plot\n",
    "def f(x,y): return (1-x/2+x**5+y**3)*np.exp(-x**2-y**2)\n",
    "\n",
    "n = 256\n",
    "x = linspace(-3,3,n)\n",
    "y = linspace(-3,3,n)\n",
    "X,Y = meshgrid(x,y)\n",
    "\n",
    "contour(X, Y, f(X,Y),colors='black')\n",
    "contourf(X, Y, f(X,Y))"
   ]
  },
  {
   "cell_type": "markdown",
   "metadata": {},
   "source": [
    "## 3D Plot"
   ]
  },
  {
   "cell_type": "code",
   "execution_count": null,
   "metadata": {
    "colab": {},
    "colab_type": "code",
    "id": "67fPHdRKNuDs"
   },
   "outputs": [],
   "source": [
    "#3D plot requires the creation of a Axes3D object\n",
    "# See: https://matplotlib.org/mpl_toolkits/mplot3d/tutorial.html\n",
    "from mpl_toolkits.mplot3d import Axes3D\n",
    "fig = figure()\n",
    "ax = Axes3D(fig)\n",
    "\n",
    "n = 256\n",
    "x = linspace(-3,3,n)\n",
    "y = linspace(-3,3,n)\n",
    "X,Y = meshgrid(x,y)\n",
    "\n",
    "def f(x,y): return (1-x/2+x**5+y**3)*np.exp(-x**2-y**2)\n",
    "\n",
    "#c=ax.plot_surface(X, Y, f(X,Y),cmap=cm.coolwarm, linewidth=0)\n",
    "#c=ax.plot_surface(X, Y, f(X,Y), rstride=1, cstride=1, linewidth=0)\n",
    "c=ax.plot_surface(X, Y, f(X,Y), rstride=2, cstride=2, cmap=cm.coolwarm, linewidth=0)\n",
    "\n",
    "\n",
    "show()"
   ]
  },
  {
   "cell_type": "markdown",
   "metadata": {
    "colab_type": "text",
    "id": "Xq9U7Qh6NuD_"
   },
   "source": [
    "## Speed, Economy, and Efficiency"
   ]
  },
  {
   "cell_type": "markdown",
   "metadata": {
    "colab_type": "text",
    "id": "WgGDtSPPNuD_"
   },
   "source": [
    "### Vectorization"
   ]
  },
  {
   "cell_type": "code",
   "execution_count": null,
   "metadata": {
    "colab": {},
    "colab_type": "code",
    "id": "u8vjLiazNuD_"
   },
   "outputs": [],
   "source": [
    "#Example inspired by Andrew Ng's lecture on vectorization in python on coursera\n",
    "import time\n",
    "\n",
    "arand=np.random.randn(1000000)\n",
    "brand=np.random.randn(1000000)\n",
    "\n",
    "#Compute sum of products of the two random arrays via loop\n",
    "\n",
    "t1=time.time()\n",
    "totprod=0.0\n",
    "for i in range(1000000):\n",
    "    totprod+=arand[i]*brand[i]\n",
    "t2=time.time()\n",
    "time1=t2-t1\n",
    "\n",
    "#Compute sum of products without loop (\"vectorized\" operation)\n",
    "\n",
    "t3=time.time()\n",
    "totprodv=np.dot(arand,brand)\n",
    "t4=time.time()\n",
    "time2=t4-t3\n",
    "\n",
    "# Time is converted to milliseconds\n",
    "print(totprod,time1*1000);print(totprodv,time2*1000)"
   ]
  },
  {
   "cell_type": "markdown",
   "metadata": {
    "colab_type": "text",
    "id": "SpiXAN-ONuEA"
   },
   "source": [
    "### Issues with floating point arithmetic operations\n",
    "\n",
    "* https://en.wikipedia.org/wiki/Loss_of_significance\n",
    "\n",
    "* https://docs.python.org/2/tutorial/floatingpoint.html"
   ]
  },
  {
   "cell_type": "markdown",
   "metadata": {
    "colab_type": "text",
    "id": "SXh63U7ONuEB"
   },
   "source": [
    "### Broadcasting"
   ]
  },
  {
   "cell_type": "code",
   "execution_count": null,
   "metadata": {
    "colab": {},
    "colab_type": "code",
    "id": "B8tFe4uSNuEE"
   },
   "outputs": [],
   "source": [
    "xp=np.array([[6,8,10],[9,12,15]]) # A 2 X 3 array\n",
    "xp"
   ]
  },
  {
   "cell_type": "code",
   "execution_count": null,
   "metadata": {
    "colab": {},
    "colab_type": "code",
    "id": "Nry91vujNuEH"
   },
   "outputs": [],
   "source": [
    "yp=np.array([3,4,5]) # A 1 X 3 array\n",
    "yp"
   ]
  },
  {
   "cell_type": "code",
   "execution_count": null,
   "metadata": {
    "colab": {},
    "colab_type": "code",
    "id": "ELuVFTxgNuEI"
   },
   "outputs": [],
   "source": [
    "xp/yp # During computation, the 1X3 array is \"broadcast\" to the shape of the larger (2X3 array) "
   ]
  },
  {
   "cell_type": "markdown",
   "metadata": {
    "colab_type": "text",
    "id": "-Gcrf4WiNuEJ"
   },
   "source": [
    "https://docs.scipy.org/doc/numpy-1.13.0/user/basics.broadcasting.html"
   ]
  },
  {
   "cell_type": "markdown",
   "metadata": {
    "colab_type": "text",
    "id": "CEKZM3KlNuEK"
   },
   "source": [
    "## Fast Fourier Transform (FFT)##"
   ]
  },
  {
   "cell_type": "markdown",
   "metadata": {
    "colab_type": "text",
    "id": "FmnLtKQyNuEL"
   },
   "source": [
    "### A quick example from:###\n",
    "https://scipy-lectures.github.io/intro/scipy.html#fast-fourier-transforms-scipy-fftpack\n",
    "\n",
    "We create a signal with a dominant frequency and noise added and then apply FFT to it."
   ]
  },
  {
   "cell_type": "code",
   "execution_count": null,
   "metadata": {
    "colab": {},
    "colab_type": "code",
    "id": "LuwvMaZPNuEM"
   },
   "outputs": [],
   "source": [
    "time_step = 0.02\n",
    "#period = 5.0\n",
    "period = 0.05\n",
    "time_vec = arange(0, 20, time_step) # list of numbers from 0 to 20 in steps of 0.02\n",
    "sig = sin(2 * pi / period * time_vec) + \\\n",
    "      0.5 * np.random.randn(time_vec.size)  # sinusoidal signal with noise\n",
    "plot(time_vec,sig)"
   ]
  },
  {
   "cell_type": "code",
   "execution_count": null,
   "metadata": {
    "colab": {},
    "colab_type": "code",
    "id": "tcjM7pZwNuEN"
   },
   "outputs": [],
   "source": [
    "from scipy import *\n",
    "sample_freq = fftfreq(sig.size, d=time_step) # obtain the list of frequencies\n",
    "sig_fft = fft(sig) # apply FFT to the signal\n",
    "#plot(sample_freq,abs(sig_fft)) # plot absolute value of signal against frequency\n",
    "#axis([0, 1, 0, 500])\n",
    "plot(sample_freq[sample_freq > 0],abs(sig_fft[sample_freq > 0])) # only positive frequencies\n",
    "#(Notice the peaks at 20, which is the dominant frequency)\n"
   ]
  },
  {
   "cell_type": "markdown",
   "metadata": {
    "colab_type": "text",
    "id": "E43wuPAiNuEP"
   },
   "source": [
    "### FFT for the solution of Harmonic Oscillator###\n",
    "Parameters [Natural frequency (w0), forcing frequency (w), force amplitude (A)]\n",
    "\n",
    "[w0, w, A] = [3.0, 0.0, 1.0]\n",
    "\n",
    "Initial state: \n",
    "y0 = [0.0, 0.0]\n"
   ]
  },
  {
   "cell_type": "code",
   "execution_count": null,
   "metadata": {
    "colab": {},
    "colab_type": "code",
    "id": "SypqH1eSNuEQ"
   },
   "outputs": [],
   "source": [
    "sig=y1[:,0]\n",
    "sig_fft = fft(sig)\n",
    "sample_freq = fftfreq(sig.size, d=0.01)\n",
    "#axis([30, 70, 0, 4000])\n",
    "#plot(abs(sig_fft))\n",
    "#axis([0.4, 0.6, 0, 500])\n",
    "axis([0.0, 1.0, 0, 500])\n",
    "plot(sample_freq[sample_freq > 0],abs(sig_fft[sample_freq > 0]))\n",
    "# The two peaks correspond to the natural and forcing frequencies."
   ]
  },
  {
   "cell_type": "markdown",
   "metadata": {
    "colab_type": "text",
    "id": "jwEZMcwGNuER"
   },
   "source": [
    "## Some References##\n",
    "\n",
    "https://scipy-lectures.github.io/\n",
    "\n",
    "The link below is an excellent resource that includes information on QuTiP (a quantum mechanics package)\n",
    "\n",
    "https://jrjohansson.github.io/\n",
    "\n",
    "http://nbviewer.ipython.org/github/jrjohansson/scientific-python-lectures/blob/master/Lecture-2-Numpy.ipynb\n",
    "\n",
    "http://nbviewer.ipython.org/github/jrjohansson/scientific-python-lectures/blob/master/Lecture-3-Scipy.ipynb\n"
   ]
  },
  {
   "cell_type": "code",
   "execution_count": null,
   "metadata": {
    "colab": {},
    "colab_type": "code",
    "collapsed": true,
    "id": "EPhdFkzLNuET"
   },
   "outputs": [],
   "source": []
  }
 ],
 "metadata": {
  "colab": {
   "name": "cee_workshop_numpy.ipynb",
   "provenance": [],
   "version": "0.3.2"
  },
  "kernelspec": {
   "display_name": "Python 3",
   "language": "python",
   "name": "python3"
  },
  "language_info": {
   "codemirror_mode": {
    "name": "ipython",
    "version": 3
   },
   "file_extension": ".py",
   "mimetype": "text/x-python",
   "name": "python",
   "nbconvert_exporter": "python",
   "pygments_lexer": "ipython3",
   "version": "3.6.3"
  }
 },
 "nbformat": 4,
 "nbformat_minor": 1
}
